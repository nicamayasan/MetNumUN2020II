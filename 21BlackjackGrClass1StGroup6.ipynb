{
  "nbformat": 4,
  "nbformat_minor": 0,
  "metadata": {
    "colab": {
      "name": "21BlackjackGrClass1StGroup6.ipynb",
      "provenance": [],
      "collapsed_sections": [],
      "include_colab_link": true
    },
    "kernelspec": {
      "name": "python3",
      "display_name": "Python 3"
    }
  },
  "cells": [
    {
      "cell_type": "markdown",
      "metadata": {
        "id": "view-in-github",
        "colab_type": "text"
      },
      "source": [
        "<a href=\"https://colab.research.google.com/github/nicamayasan/MetNumUN2020II/blob/master/21BlackjackGrClass1StGroup6.ipynb\" target=\"_parent\"><img src=\"https://colab.research.google.com/assets/colab-badge.svg\" alt=\"Open In Colab\"/></a>"
      ]
    },
    {
      "cell_type": "markdown",
      "metadata": {
        "id": "Jtc42wW_x1rS"
      },
      "source": [
        "LABORATORIO # 4 GRUPO 6"
      ]
    },
    {
      "cell_type": "markdown",
      "metadata": {
        "id": "YOtL54B6UGt1"
      },
      "source": [
        "<img src='https://algorithmsun.files.wordpress.com/2020/09/shuffle-1.png?w=1024' width=\"440\">\n"
      ]
    },
    {
      "cell_type": "markdown",
      "metadata": {
        "id": "Q6UbwuEsoWfh"
      },
      "source": [
        ""
      ]
    },
    {
      "cell_type": "code",
      "metadata": {
        "id": "gWYXauBUiyLy"
      },
      "source": [
        "import random as r\n",
        "import matplotlib.pyplot as plt\n",
        "ran_first_cell=True       #un booleano para mandar un error si no se ha corrido esta celda"
      ],
      "execution_count": 4,
      "outputs": []
    },
    {
      "cell_type": "markdown",
      "metadata": {
        "id": "pW40dcVuVTm4"
      },
      "source": [
        "**1.  Estimate the probability of getting a 21, the average number of cards required \n",
        "to complete 21 and plot the experimental distribution of the number of card required to complete 21 drawing cards sequentially from a shuffled Spanish 48-card deck with card values [1,2,3,4,5,6,7,10,11,12,1,2,3,4,5,6,7,8,9,10,11,12,1,2,3,4,5,6,7,8,9,10,11,12,1,2,3,4,5,6,7,8,9,10,11,12] and from a shuffled Poker 52-card with card values [1,2,3,4,5,6,7,8,9,10,11,12,13,1,2,3,4,5,6,7,8,9,10,11,12,13,1,2,3,4,5,6,7,8,9,10,11,12,13,1,2,3,4,5,6,7,8,9,10,11,12,13] using Montecarlo with 10 millions simulations.**\n",
        "\n",
        "  *   A n-card deck is shuffled if t all possible n! decks have equal probability 1/n! or equivalently if when choosing any card of the shuffled deck all n cards have the same probability 1/n of appearing.\n",
        "  *   Hint: Instead of shuffling the card deck an drawing sequentially it is equivalent to have a sorted list representing the cards and draw cards randomly located from that list with random.choice(list). "
      ]
    },
    {
      "cell_type": "code",
      "metadata": {
        "id": "XEpaMt-HpV5i",
        "outputId": "95a871b4-ebf8-49d5-c76c-45adc9759436",
        "colab": {
          "base_uri": "https://localhost:8080/",
          "height": 640
        }
      },
      "source": [
        "# 1.\n",
        "assert ran_first_cell , 'Hey, run the first cell'           #Verifica que se halla corrido la celda anterior, botara un error de variable no definida si no se ha hecho (aunque no es exactamente la idea)\n",
        "n=10000000                          #numero de simulaciones\n",
        "win_sp=[]                          #Se hace una lista vacia para guardar el numero de cartas con la que se hace un blackjack en baraja española\n",
        "win_pk=[]                          #e igual para la baraja de poker\n",
        "for i in range(n):\n",
        "  spanishdeck=[1,2,3,4,5,6,7,8,9,10,11,12,1,2,3,4,5,6,7,8,9,10,11,12,1,2,3,4,5,6,7,8,9,10,11,12,1,2,3,4,5,6,7,8,9,10,11,12]  #48\n",
        "  count = 0                        #la suma de las cartas que se tienen en la mano\n",
        "  cards = 0                        #el numero de cartas en ese momento\n",
        "  while count < 21:\n",
        "    pos=r.randrange(len(spanishdeck))                 #se halla un numero aleatorio que corresponde a la posicion de una carta en la baraja\n",
        "    count += spanishdeck.pop(pos)                     #se saca la carta en esa posicion y se suma a la variable\n",
        "    cards += 1                                        #se suma 1 al numero de cartas\n",
        "    if count == 21:\n",
        "          win_sp.append(cards)                        #si se tienen 21 se agrega el numero de cartas a la lista\n",
        "\n",
        "print('Total wins: ', len(win_sp))                    #el numero de veces que se gana es igual a la cantidad de elementos en la lista\n",
        "print('The probability for a blackjack with a spanish deck is: ', len(win_sp)/n)    #y la probabilidad el numero de veces que se gana dividido entre el numero total de simulaciones\n",
        "for i in range(n):\n",
        "  pokerdeck=[1,2,3,4,5,6,7,8,9,10,11,12,13,1,2,3,4,5,6,7,8,9,10,11,12,13,1,2,3,4,5,6,7,8,9,10,11,12,13,1,2,3,4,5,6,7,8,9,10,11,12,13]   #52\n",
        "  count = 0                        #se usan las mismas variables para hacer las simulaciones con la baraja de poker\n",
        "  cards = 0\n",
        "  while count < 21:\n",
        "    pos=r.randrange(len(pokerdeck))          #se utiliza el mismo algoritmo para escoger carta y guardar en la lista correspondiente\n",
        "    count += pokerdeck.pop(pos)\n",
        "    cards += 1\n",
        "    if count == 21:\n",
        "          win_pk.append(cards)\n",
        "\n",
        "print('Total wins: ', len(win_pk))            #y el numero de veces que se gana y la probabilidad se dan de la misma forma\n",
        "print('The probability for a blackjack with a poker deck is: ', len(win_pk)/n)\n",
        "\n",
        "plt.figure()                 #se crea una nueva figura                                              \n",
        "height_sp=[]                 #se crea una lista para guardar los valores de cada barra para los diferentes numeros de cartas\n",
        "for i in range(min(win_sp),max(win_sp)+1):        #se crea un rango desde el numero minimo de cartas con las que se gano hasta el numero maximo de cartas con el que se gano\n",
        "  height_sp.append(win_sp.count(i))               #se cuenta cuantas veces se gano con cada numero de cartas y se guarda en la lista\n",
        "plt.bar(list(range(min(win_sp),max(win_sp)+1)),height=height_sp,width=0.8)   #se grafica con barras unicamente para los valores que se obtuvieron una vez o mas\n",
        "plt.xlabel(\"Total cards to achieve a blackjack\")\n",
        "plt.ylabel(\"Amount of times achieved\")\n",
        "plt.title('Bars graphic of wins on spanish deck');\n",
        "\n",
        "plt.figure()           #se crea otra figura\n",
        "height_pk=[]           #y se grafica de forma igual a la anterior con la lista correspondiente a la baraja de poker\n",
        "for i in range(min(win_pk),max(win_pk)+1):\n",
        "  height_pk.append(win_pk.count(i))\n",
        "plt.bar(list(range(min(win_pk),max(win_pk)+1)),height=height_pk,width=0.8)\n",
        "plt.xlabel(\"Total cards to achieve a blackjack\")\n",
        "plt.ylabel(\"Amount of times achieved\")\n",
        "plt.title('Bars graphic of wins on poker deck');"
      ],
      "execution_count": 5,
      "outputs": [
        {
          "output_type": "stream",
          "text": [
            "Total wins:  1577044\n",
            "The probability for a blackjack with a spanish deck is:  0.1577044\n",
            "Total wins:  1447163\n",
            "The probability for a blackjack with a poker deck is:  0.1447163\n"
          ],
          "name": "stdout"
        },
        {
          "output_type": "display_data",
          "data": {
            "image/png": "[encoded data removed]",
            "text/plain": [
              "<Figure size 432x288 with 1 Axes>"
            ]
          },
          "metadata": {
            "tags": [],
            "needs_background": "light"
          }
        },
        {
          "output_type": "display_data",
          "data": {
            "image/png": "[encoded data removed]",
            "text/plain": [
              "<Figure size 432x288 with 1 Axes>"
            ]
          },
          "metadata": {
            "tags": [],
            "needs_background": "light"
          }
        }
      ]
    },
    {
      "cell_type": "markdown",
      "metadata": {
        "id": "hfxd0OwhVQDg"
      },
      "source": [
        "**2.   Estimate the probability of getting a 21, the average number of cards required to complete 21 and plot the experimental distribution of the number of card required to complete 21 drawing cards sequentially from a shuffled Spanish 48-card deck with card values [1,2,3,4,5,6,7,10,10,10,1,2,3,4,5,6,7,8,9,10,10,10,1,2,3,4,5,6,7,8,9,10,10,10,1,2,3,4,5,6,7,8,9,10,10,10] and from a shuffled Poker 52-card deck with card values [1,2,3,4,5,6,7,8,9,10,11,12,13,1,2,3,4,5,6,7,8,9,10,10,10,10,1,2,3,4,5,6,7,8,9,10,10,10,10,1,2,3,4,5,6,7,8,9,10,10,10,10] using Montecarlo with 10 millions simulations.**"
      ]
    },
    {
      "cell_type": "code",
      "metadata": {
        "id": "96CE4Pj8m8pe",
        "outputId": "d8ac559c-c922-4b77-d638-c88913afa800",
        "colab": {
          "base_uri": "https://localhost:8080/",
          "height": 640
        }
      },
      "source": [
        "# 2.\n",
        "assert ran_first_cell , 'Hey, run the first cell'\n",
        "n=10000000\n",
        "win_sp=[]                   #Se establecen las mismas listas que el ejemplo anterior\n",
        "win_pk=[]\n",
        "for i in range(n):\n",
        "  spanishdeck=[1,2,3,4,5,6,7,8,9,10,10,10,1,2,3,4,5,6,7,8,9,10,10,10,1,2,3,4,5,6,7,8,9,10,10,10,1,2,3,4,5,6,7,8,9,10,10,10]  #48    #se cambian algunas cartas de la baraja pero se mantiene el numero total\n",
        "  count = 0                 #y las mismas variables para el conteo\n",
        "  cards = 0                 \n",
        "  while count < 21:         #se escoge igual y se usa el mismo algoritmo para hallar los resultados de las simulaciones\n",
        "    pos=r.randrange(len(spanishdeck))\n",
        "    count += spanishdeck.pop(pos)\n",
        "    cards += 1\n",
        "    if count == 21:\n",
        "          win_sp.append(cards)\n",
        "\n",
        "print('Total wins: ', len(win_sp))        #los resultados se calculan de la misma forma que antes\n",
        "print('The probability for a blackjack with a spanish deck is: ', len(win_sp)/n)\n",
        "for i in range(n):\n",
        "  pokerdeck=[1,2,3,4,5,6,7,8,9,10,10,10,10,1,2,3,4,5,6,7,8,9,10,10,10,10,1,2,3,4,5,6,7,8,9,10,10,10,10,1,2,3,4,5,6,7,8,9,10,10,10,10]   #52    #se cambian algunas cartas de la baraja pero se mantiene el numero total\n",
        "  count = 0                               #y se repite todo el proceso para la nueva baraja de poker\n",
        "  cards = 0 \n",
        "  while count < 21:\n",
        "    pos = r.randrange(len(pokerdeck))\n",
        "    count += pokerdeck.pop(pos)\n",
        "    cards += 1\n",
        "    if count == 21:\n",
        "          win_pk.append(cards)\n",
        "\n",
        "print('Total wins: ', len(win_pk))\n",
        "print('The probability for a blackjack with a poker deck is: ', len(win_pk)/n)\n",
        "\n",
        "plt.figure()                   #finalmente se realizan ambas graficas de la misma forma que se hizo en el primer punto\n",
        "height_sp=[]\n",
        "for i in range(min(win_sp),max(win_sp)+1):\n",
        "  height_sp.append(win_sp.count(i))\n",
        "plt.bar(list(range(min(win_sp),max(win_sp)+1)),height=height_sp,width=0.8)\n",
        "plt.xlabel(\"Total cards to achieve a  blackjack\")\n",
        "plt.ylabel(\"Amount of times achieved\")\n",
        "plt.title('Bars graphic of wins on spanish deck');\n",
        "\n",
        "plt.figure()\n",
        "height_pk=[]\n",
        "for i in range(min(win_pk),max(win_pk)+1):\n",
        "  height_pk.append(win_pk.count(i))\n",
        "plt.bar(list(range(min(win_pk),max(win_pk)+1)),height=height_pk,width=0.8)\n",
        "plt.xlabel(\"Total cards to achieve a blackjack\")\n",
        "plt.ylabel(\"Amount of times achieved\")\n",
        "plt.title('Bars graphic of wins on poker deck');"
      ],
      "execution_count": 6,
      "outputs": [
        {
          "output_type": "stream",
          "text": [
            "Total wins:  1496310\n",
            "The probability for a blackjack with a spanish deck is:  0.149631\n",
            "Total wins:  1400987\n",
            "The probability for a blackjack with a poker deck is:  0.1400987\n"
          ],
          "name": "stdout"
        },
        {
          "output_type": "display_data",
          "data": {
            "image/png": "[encoded data removed]",
            "text/plain": [
              "<Figure size 432x288 with 1 Axes>"
            ]
          },
          "metadata": {
            "tags": [],
            "needs_background": "light"
          }
        },
        {
          "output_type": "display_data",
          "data": {
            "image/png": "[encoded data removed]",
            "text/plain": [
              "<Figure size 432x288 with 1 Axes>"
            ]
          },
          "metadata": {
            "tags": [],
            "needs_background": "light"
          }
        }
      ]
    },
    {
      "cell_type": "markdown",
      "metadata": {
        "id": "RVJvNC8YVNuY"
      },
      "source": [
        "**3.   Estimate the probability of getting a 21, the average total number of cards required to complete 21 (including the three that you start with) and plot the experimental distribution of the number of card required to complete 21 with drawing cards sequentially from a shuffled Spanish 48-card deck with 3 10’s and a shuffled Poker 52-card deck with 4 10’s, assuming that you have in your hand the cards [7,7,5]ae and the remaining deck has n/2 cards. You can pick the n/2 cards in the remaining deck in whatever way you choose but with restriction that this has maximum two 7s and three 5, you have to keep the remaining deck fixed through the simulations, use Montecarlo with 10 millions simulations.**"
      ]
    },
    {
      "cell_type": "code",
      "metadata": {
        "id": "SRI0ket4oMYG",
        "outputId": "e171d622-3e58-4280-bde8-885c13a74d8c",
        "colab": {
          "base_uri": "https://localhost:8080/",
          "height": 646
        }
      },
      "source": [
        "# 3.\n",
        "assert ran_first_cell , 'Hey, run the first cell'\n",
        "n=10000000\n",
        "win_sp=[]               #Se establecen las mismas listas que el ejemplo anterior\n",
        "win_pk=[]\n",
        "for i in range(n):      #primero se realizan n simulaciones para la baraja española\n",
        "  spanishdeck=[1,2,3,4,6,8,9,10,10,10,1,2,3,4,5,6,8,9,10,10,10,1,2,3,4,5,6,7,8,9,10,10,10,1,2,3,4,5,6,7,8,9,10,10,10]  #48-3    #se conserva la baraja del punto 2 quitando las 3 cartas iniciales (5,7,7)\n",
        "  count = 7+7+5         #para este caso sabemos que iniciamos con este valor ya en la mano\n",
        "  cards = 3             #que se obtiene de 3 cartas\n",
        "  while len(spanishdeck)>48/2:     #se remueven cartas al azar hasta que la baraja solo tenga la mitad de las cartas iniciales (48/2)\n",
        "    pos=r.randrange(len(spanishdeck))\n",
        "    spanishdeck.pop(pos)\n",
        "  while count < 21:                #y se usa el mismo algoritmo de los puntos anteriores para sacar cartas al azar y guardar los valores correspondientes si se llega a 21\n",
        "    pos=r.randrange(len(spanishdeck))\n",
        "    count += spanishdeck.pop(pos)\n",
        "    cards += 1\n",
        "    if count == 21:\n",
        "          win_sp.append(cards)\n",
        "\n",
        "print('Total wins: ', len(win_sp))       #los resultados se calculan de la misma forma que los puntos anteriores\n",
        "print('The probability for a blackjack with a spanish deck is: ', len(win_sp)/n)\n",
        "\n",
        "for i in range(n):      #y luego procedemos a hacer lo mismo para la baraja de poker\n",
        "  pokerdeck=[1,2,3,4,6,8,9,10,10,10,10,1,2,3,4,5,6,8,9,10,10,10,10,1,2,3,4,5,6,7,8,9,10,10,10,10,1,2,3,4,5,6,7,8,9,10,10,10,10]   #52-3     #se conserva la baraja del punto 2 quitando las 3 cartas iniciales (5,7,7)\n",
        "  count = 7+7+5         #para este caso sabemos que iniciamos con este valor ya en la mano\n",
        "  cards = 3             #que se obtiene de 3 cartas\n",
        "  while len(pokerdeck)>52/2:                  #se remueven cartas al azar hasta que la baraja solo tenga la mitad de las cartas iniciales (52/2)\n",
        "    pos=r.randrange(len(pokerdeck))\n",
        "    pokerdeck.pop(pos)\n",
        "  while count < 21:               #y se usa el mismo algoritmo de los puntos anteriores para sacar cartas al azar y guardar los valores correspondientes si se llega a 21\n",
        "    pos=r.randrange(len(pokerdeck))\n",
        "    count += pokerdeck.pop(pos)\n",
        "    cards += 1\n",
        "    if count == 21:\n",
        "          win_pk.append(cards)\n",
        "\n",
        "print('Total wins: ', len(win_pk))        #los resultados se calculan de la misma forma que los puntos anteriores\n",
        "print('The probability for a blackjack with a poker deck is: ', len(win_pk)/n)\n",
        "\n",
        "plt.figure()     #finalmente se grafica como en los puntos anteriores, aqui solo pueden haber dos barras, ya sea que se gane con 4 cartas o con 5\n",
        "height_sp=[]\n",
        "for i in range(min(win_sp),max(win_sp)+1):\n",
        "  height_sp.append(win_sp.count(i))\n",
        "plt.bar(list(range(min(win_sp),max(win_sp)+1)),height=height_sp,width=0.8)\n",
        "plt.xlabel(\"Total cards to achieve a blackjack\")\n",
        "plt.ylabel(\"Amount of times achieved\")\n",
        "plt.title('Bars graphic of wins on spanish deck');\n",
        "\n",
        "plt.figure()\n",
        "height_pk=[]\n",
        "for i in range(min(win_pk),max(win_pk)+1):\n",
        "  height_pk.append(win_pk.count(i))\n",
        "plt.bar(list(range(min(win_pk),max(win_pk)+1)),height=height_pk,width=0.8)\n",
        "plt.xlabel(\"Total cards to achieve a blackjack\")\n",
        "plt.ylabel(\"Amount of times achieved\")\n",
        "plt.title('Bars graphic of wins on poker deck');"
      ],
      "execution_count": null,
      "outputs": [
        {
          "output_type": "stream",
          "text": [
            "Total wins:  949100\n",
            "The probability for a blackjack with a spanish deck is:  0.09491\n",
            "Total wins:  866666\n",
            "The probability for a blackjack with a poker deck is:  0.0866666\n"
          ],
          "name": "stdout"
        },
        {
          "output_type": "display_data",
          "data": {
            "image/png": "[encoded data removed]",
            "text/plain": [
              "<Figure size 432x288 with 1 Axes>"
            ]
          },
          "metadata": {
            "tags": [],
            "needs_background": "light"
          }
        },
        {
          "output_type": "display_data",
          "data": {
            "image/png": "[encoded data removed]",
            "text/plain": [
              "<Figure size 432x288 with 1 Axes>"
            ]
          },
          "metadata": {
            "tags": [],
            "needs_background": "light"
          }
        }
      ]
    },
    {
      "cell_type": "markdown",
      "metadata": {
        "id": "t0qm8CnWVKny"
      },
      "source": [
        "**4. Find two remaining decks with 8 cards for a Spanish 48-card deck with 3 10’s and for a Poker 52-card deck with 4 10’s; one remaining deck with 8 cards that has the highest probability of getting 21 (hot deck) and the other remaining deck with 8 cards that has the lowest probability of getting 21(cold deck). Assuming that you have in your hand the cards [7,7,5], calculate analytically the probabilities of getting a 21 for both the hot an cold deck, estimate this probabilities of getting a 21, the average total number of cards required to complete 21 (including the three that you start with) and plot the experimental distribution of the total number of card required to complete 21 (including the three that you start with) using Montecarlo with 10 millions simulations.**"
      ]
    },
    {
      "cell_type": "code",
      "metadata": {
        "id": "T4Xx7NZ64-8i",
        "outputId": "443f0344-cbf9-4c55-82a6-47e561eb51a9",
        "colab": {
          "base_uri": "https://localhost:8080/",
          "height": 1000
        }
      },
      "source": [
        "#4  (aporx 21 seg)\n",
        "import random as r\n",
        "import matplotlib.pyplot as plt\n",
        "import numpy as np\n",
        "#Numero simulaciones\n",
        "n = 1000000\n",
        "\"\"\"Listas para las graficas de distribucion\"\"\"\n",
        "count_esp_hot = [0,0,0,0,0,0,0,0,0]\n",
        "count_esp_cold = [0,0,0,0,0,0,0,0,0]\n",
        "count_pok_hot = [0,0,0,0,0,0,0,0,0]\n",
        "count_pok_cold = [0,0,0,0,0,0,0,0,0]\n",
        "#Barajas española\n",
        "b_esp_hot = [1,1,1,1,2,2,2,2]\n",
        "b_esp_cold = [10,10,10,10,10,10,10,10]\n",
        "#Barajas poker\n",
        "b_pok_hot = [1,1,1,1,2,2,2,2]\n",
        "b_pok_cold = [10,10,10,10,10,10,10,10]\n",
        "\n",
        "\"\"\"\"Funcion calculo exito 21 \"\"\"\n",
        "#bool t, list maso, list mano, int num_cart\n",
        "def ventiuna(maso,mano,num_cart):\n",
        "    win = False\n",
        "    #Los breaks detienen el ciclo\n",
        "    while(True):\n",
        "        #Escoge una carta al azar del maso y la pone en la mano\n",
        "        esp=r.randint(0,len(maso)-1)\n",
        "        mano.append(maso[esp])\n",
        "        maso.pop(esp)\n",
        "        if sum(mano)==21:\n",
        "            win = True\n",
        "            break;\n",
        "        elif sum(mano)>21:\n",
        "            break;\n",
        "        else:\n",
        "            num_cart = num_cart + 1\n",
        "    \n",
        "    return [win,num_cart]\n",
        "\n",
        "\n",
        "for i in range(n):\n",
        "    #Masos y manos para pruebas\n",
        "    test_esp_hot = b_esp_hot[:]\n",
        "    test_esp_cold = b_esp_cold[:]\n",
        "    test_pok_hot = b_pok_hot[:]\n",
        "    test_pok_cold = b_pok_cold[:]\n",
        "    mano_esp_hot =  [7,7,5]\n",
        "    mano_esp_cold =  [7,7,5]\n",
        "    mano_pok_hot =  [7,7,5]\n",
        "    mano_pok_cold =  [7,7,5]\n",
        "    \n",
        "    #Test esp_hot\n",
        "    esp_hot = ventiuna(test_esp_hot,mano_esp_hot,0)\n",
        "    if(esp_hot[0]):\n",
        "        count_esp_hot[esp_hot[1]] = count_esp_hot[esp_hot[1]] +1\n",
        "   \n",
        "    #Es imposible sacar 21 con el maso frio\n",
        "    \n",
        "    #Test pok_hot\n",
        "    pok_hot = ventiuna(test_pok_hot,mano_pok_hot,0)\n",
        "    if(pok_hot[0]):\n",
        "        count_pok_hot[pok_hot[1]] = count_pok_hot[pok_hot[1]] +1\n",
        "    \n",
        "    #Es imposible sacar 21 con el maso frio\n",
        "    \n",
        "#Despues de las pruebas\n",
        "\n",
        "#El numero de cartas en mano\n",
        "m = [4,5,6,7,8,9,10,11,12]\n",
        "\n",
        "#Graficas por maso\n",
        "\n",
        "prob_esp_hot = np.array(count_esp_hot)\n",
        "plt.bar(m,(100*prob_esp_hot/n))\n",
        "plt.ylabel('Probabilidad española hot(%)')\n",
        "plt.xlabel('Numero de cartas')\n",
        "plt.show()\n",
        "print (\"Probabilidad española hot total:\")\n",
        "#Probabilidades escaladas\n",
        "Escalado = sum(prob_esp_hot)*100/n\n",
        "print (Escalado)\n",
        "print (\"Probabilidades escaladas:\")\n",
        "c4 = (prob_esp_hot[0]*100/(n*Escalado))\n",
        "c5 = (prob_esp_hot[1]*100/(n*Escalado))\n",
        "print (\"Con 4 cartas: \",c4*100)\n",
        "print (\"Con 5 cartas: \",c5*100)\n",
        "print (\"Cartas promedio para 21: \",(4*c4+5*c5))\n",
        "\n",
        "prob_esp_cold = np.array(count_esp_cold)\n",
        "plt.bar(m,(100*prob_esp_cold/n))\n",
        "plt.ylabel('Probabilidad española cold(%)')\n",
        "plt.xlabel('Numero de cartas')\n",
        "plt.show()\n",
        "#No se puede escalar 0%\n",
        "\n",
        "prob_pok_hot = np.array(count_pok_hot)\n",
        "plt.bar(m,(100*prob_pok_hot/n))\n",
        "plt.ylabel('Probabilidad poker hot(%)')\n",
        "plt.xlabel('Numero de cartas')\n",
        "plt.show()\n",
        "#Probabilidades escaladas\n",
        "Escalado = sum(prob_pok_hot)*100/n\n",
        "print (Escalado)\n",
        "print (\"Probabilidades escaladas:\")\n",
        "c4 = (prob_pok_hot[0]*100/(n*Escalado))\n",
        "c5 = (prob_pok_hot[1]*100/(n*Escalado))\n",
        "print (\"Con 4 cartas: \",c4*100)\n",
        "print (\"Con 5 cartas: \",c5*100)\n",
        "print (\"Cartas promedio para 21: \",(4*c4+5*c5))\n",
        "\n",
        "prob_pok_cold = np.array(count_pok_cold)\n",
        "plt.bar(m,(100*prob_pok_cold/n))\n",
        "plt.ylabel('Probabilidad poker cold(%)')\n",
        "plt.xlabel('Numero de cartas')\n",
        "plt.show()\n",
        "#No se puede escalar 0%"
      ],
      "execution_count": 7,
      "outputs": [
        {
          "output_type": "display_data",
          "data": {
            "image/png": "[encoded data removed]",
            "text/plain": [
              "<Figure size 432x288 with 1 Axes>"
            ]
          },
          "metadata": {
            "tags": [],
            "needs_background": "light"
          }
        },
        {
          "output_type": "stream",
          "text": [
            "Probabilidad española hot total:\n",
            "71.3983\n",
            "Probabilidades escaladas:\n",
            "Con 4 cartas:  70.02351596606641\n",
            "Con 5 cartas:  29.97648403393358\n",
            "Cartas promedio para 21:  4.299764840339336\n"
          ],
          "name": "stdout"
        },
        {
          "output_type": "display_data",
          "data": {
            "image/png": "[encoded data removed]",
            "text/plain": [
              "<Figure size 432x288 with 1 Axes>"
            ]
          },
          "metadata": {
            "tags": [],
            "needs_background": "light"
          }
        },
        {
          "output_type": "display_data",
          "data": {
            "image/png": "[encoded data removed]",
            "text/plain": [
              "<Figure size 432x288 with 1 Axes>"
            ]
          },
          "metadata": {
            "tags": [],
            "needs_background": "light"
          }
        },
        {
          "output_type": "stream",
          "text": [
            "71.4296\n",
            "Probabilidades escaladas:\n",
            "Con 4 cartas:  70.05289123836617\n",
            "Con 5 cartas:  29.947108761633835\n",
            "Cartas promedio para 21:  4.299471087616338\n"
          ],
          "name": "stdout"
        },
        {
          "output_type": "display_data",
          "data": {
            "image/png": "[encoded data removed]",
            "text/plain": [
              "<Figure size 432x288 with 1 Axes>"
            ]
          },
          "metadata": {
            "tags": [],
            "needs_background": "light"
          }
        }
      ]
    },
    {
      "cell_type": "markdown",
      "metadata": {
        "id": "LycGXtR66il5"
      },
      "source": [
        "**5.Estimate the average amount of money (expected value) that Ben wins or losses on a weekend if Ben goes to Vegas every weekend (Friday, Saturday and Sunday), plays every weekend day 10 hours, each game takes 3 mins. Assume that for each game he gets two possibilities, in one he gets in his hand the cards [7,7,5] and a remaining hot deck with 8 cards in which case he bets $\\$$1000 this happens with probability 1/10; in the other one he gets no cards in his hand a complete shuffled deck in which case he bets $10, this happens with the remaining probability 9/10. Use 10000 Montecarlo simulations to estimated the expected amount of money that Ben wins or losses on a weekend for a Spanish 48-card deck with 3 10’s and for a Poker 52-card deck with 4 10’s.**"
      ]
    },
    {
      "cell_type": "code",
      "metadata": {
        "id": "ES7jm2f01mEO"
      },
      "source": [
        "#5\n",
        "#importacion de las librerias de usar\n",
        "#\n",
        "import random\n",
        "#\n",
        "import matplotlib.pyplot as plt\n",
        "#\n",
        "import numpy as np"
      ],
      "execution_count": 9,
      "outputs": []
    },
    {
      "cell_type": "code",
      "metadata": {
        "id": "6OOR5JXIEzhY"
      },
      "source": [
        "#5\n",
        "#funcion para calcular la ganancia tras un juego\n",
        "def apostar(Mazo1,Mano1,dinero):\n",
        "  #copiar los vectores, crear instancias\n",
        "  Mazo = Mazo1[:]\n",
        "  Mano = Mano1[:]\n",
        "\n",
        "  for x in Mazo:  \n",
        "    #Se calcula si la Mano es 21 gano dinero\n",
        "    if (sum(Mano)==21):\n",
        "      return (dinero)\n",
        "      \n",
        "      #Si se pasa pierde la apuesta\n",
        "    elif (sum(Mano)>21):\n",
        "      return (-dinero)\n",
        "\n",
        "      #Se toma una carta\n",
        "    else:\n",
        "      Mano.append(Mazo.pop())\n",
        "\n",
        "#Funcion para definir la simulacion de juego\n",
        "def Inicio_Juego(Mano, Mazo, sim):\n",
        "  \n",
        "  #Numero de juegos cada fin de semana\n",
        "  #10 horas cada dia (Viernes, Sabado, Domingo) y cada juego es de 3 mins\n",
        "  MazoJuego = Mazo[:]\n",
        "  Juegos = int((10 * 3)*(60 / 3))\n",
        "  print (\"\\tNumero de juegos \", Juegos,\"\\n\")\n",
        "\n",
        "  #Duracion de la adiccion es de 10 millones de juegos\n",
        "  i = 0\n",
        "\n",
        "  #Contador para Juegos cada semana\n",
        "  j = 0\n",
        "\n",
        "  #Almacenar el dinero por semana\n",
        "  ganado = 0\n",
        "  \n",
        "  #Almacenar los resultados por semana\n",
        "  resultado = []\n",
        "\n",
        "  #Acumulado de ganancia\n",
        "  acumulado = 0\n",
        "\n",
        "  #Variabl\n",
        "  rand = 0\n",
        "\n",
        "  #Inicio se repetira 10 mil semanas\n",
        "  while (i <= sim):\n",
        "\n",
        "    #Condicional que separa las semanas\n",
        "    if (j >= Juegos):\n",
        "      j = 0\n",
        "      i +=1\n",
        "      #print (\"Ganancia de Ben en la semana \", int(i/Tiempo),\" es de $\", ganado)\n",
        "      acumulado = acumulado + ganado\n",
        "      \n",
        "      #Almacenar el dinero que se gana en la semana\n",
        "      resultado.append(ganado)\n",
        "\n",
        "      #Reiniciar contador\n",
        "      ganado = 0\n",
        "\n",
        "    #Juego de 21\n",
        "    else:\n",
        "      #Jugado nuevo\n",
        "      j = j+1\n",
        "\n",
        "      #Revolver las cartas cuando inicia un juego nuevo\n",
        "      random.shuffle(MazoJuego[0])\n",
        "      random.shuffle(MazoJuego[1])\n",
        "\n",
        "      #Numero aleatorio entero entre 0 y 9\n",
        "      rand = random.randint(0,9)\n",
        "      \n",
        "\n",
        "      premio = 0\n",
        "      \n",
        "      #Si la probabilidad es favorable se apuesta 1000\n",
        "      if (rand==0):\n",
        "        \n",
        "        #Llamada de la funcion apostar\n",
        "        premio = apostar(MazoJuego[0],Mano,1000)\n",
        "        #Si la probabilidad es desfavorable se apuesta 10\n",
        "      else:\n",
        "        #Llamada de la funcion apostar\n",
        "        premio = apostar(MazoJuego[1],[],10)\n",
        "      #Sumar los resultados\n",
        "      ganado = ganado + premio \n",
        "      \n",
        "\n",
        "  print (\"\\nLa ganancia de Ben es de $\", acumulado,\"\\n\")"
      ],
      "execution_count": 10,
      "outputs": []
    },
    {
      "cell_type": "code",
      "metadata": {
        "id": "fNiYrUvYAHT4",
        "outputId": "12c256a6-061c-41df-afee-7fd798fe4942",
        "colab": {
          "base_uri": "https://localhost:8080/",
          "height": 269
        }
      },
      "source": [
        "#5\n",
        "#Baraja Española de 48 cartas\n",
        "Mazo_Espanol = [1,2,3,4,5,6,7,8,9,10,10,10] #12\n",
        "Mazo_Espanol = Mazo_Espanol+Mazo_Espanol #24\n",
        "Mazo_Espanol = Mazo_Espanol+Mazo_Espanol #36\n",
        "Mazo_Espanol = Mazo_Espanol+Mazo_Espanol #48\n",
        "Mazo_Espanol_C = [[1,1,1,1,2,2,2,2],Mazo_Espanol] #[Hot, Cold]\n",
        "\n",
        "#Tiempo de juego en cada semana 3 dias a la semana, 10 horas de juego \n",
        "#y cada partida con duracion de 3 minutos\n",
        "print (\"\\t Juego con baraja española.\\n\")\n",
        "print (\"\\t Inicio de la partida.\\n\")\n",
        "\n",
        "#Mis cartas en mano (Recibidas)\n",
        "Mano1 = [5,7,7]\n",
        "#Calcular con el mazo Español\n",
        "Inicio_Juego(Mano1, Mazo_Espanol_C, 10000)\n",
        "#Baraja Poker\n",
        "Mazo_Poker = [1,2,3,4,5,6,7,8,9,10,10,10,10] #13\n",
        "Mazo_Poker = Mazo_Poker+Mazo_Poker  #26\n",
        "Mazo_Poker = Mazo_Poker+Mazo_Poker  #39\n",
        "Mazo_Poker = Mazo_Poker+Mazo_Poker  #52\n",
        "Mazo_Poker_C = [[1,1,1,1,2,2,2,2],Mazo_Poker] #[Hot, Cold]\n",
        "\n",
        "#Tiempo de juego en cada semana 3 dias a la semana, 10 horas de juego \n",
        "#y cada partida con duracion de 3 minutos\n",
        "print (\"\\t Juego con baraja de poker.\\n\")\n",
        "print (\"\\t Inicio de la partida.\\n\")\n",
        "\n",
        "#Mis cartas recividas (mano)\n",
        "Mano1 = [5,7,7]\n",
        "\n",
        "#Calcular con el mazo\n",
        "Inicio_Juego(Mano1, Mazo_Poker_C, 10000)"
      ],
      "execution_count": null,
      "outputs": [
        {
          "output_type": "stream",
          "text": [
            "\t Juego con baraja española.\n",
            "\n",
            "\t Inicio de la partida.\n",
            "\n",
            "\tNumero de juegos  600 \n",
            "\n",
            "\n",
            "La ganancia de Ben es de $ 219789700 \n",
            "\n",
            "\t Juego con baraja de poker.\n",
            "\n",
            "\t Inicio de la partida.\n",
            "\n",
            "\tNumero de juegos  600 \n",
            "\n"
          ],
          "name": "stdout"
        }
      ]
    },
    {
      "cell_type": "markdown",
      "metadata": {
        "id": "4o6kLNwzEWCq"
      },
      "source": [
        "**6. Calculate analytically the average amount of money (expected values) that Ben wins or losses on a weekend for a Spanish 48-card deck with 3 10’s and for a Poker 52-card deck with 4 10’s.**\n"
      ]
    },
    {
      "cell_type": "markdown",
      "metadata": {
        "id": "CbjRpUG9Gt0o"
      },
      "source": [
        "* Expected amount of money for each game with a hot deck with 8 cards [1,1,1,1,2,2,2,2] is: (1000 * 0.7142857142) + (-1000 * (1-0.7142857142))"
      ]
    },
    {
      "cell_type": "code",
      "metadata": {
        "id": "C_odhf0BERAl"
      },
      "source": [
        "(1000 * 0.7142857142) + (-1000 * (1-0.7142857142))"
      ],
      "execution_count": null,
      "outputs": []
    },
    {
      "cell_type": "markdown",
      "metadata": {
        "id": "fDLgwsH2iXjs"
      },
      "source": [
        "* Expected amount of money for each game with complete for the Spanish 48-card deck with 3 10´s is: (10 * 0.1577044) + (-10 * (1-0.1577044))"
      ]
    },
    {
      "cell_type": "code",
      "metadata": {
        "id": "B80pugUDi3Nn",
        "outputId": "b16aa35a-4b6d-4de2-a226-170853dcbddf",
        "colab": {
          "base_uri": "https://localhost:8080/",
          "height": 34
        }
      },
      "source": [
        "(10 * 0.1577044) + (-10 * (1-0.1577044))"
      ],
      "execution_count": 12,
      "outputs": [
        {
          "output_type": "execute_result",
          "data": {
            "text/plain": [
              "-6.845912000000001"
            ]
          },
          "metadata": {
            "tags": []
          },
          "execution_count": 12
        }
      ]
    },
    {
      "cell_type": "markdown",
      "metadata": {
        "id": "fvYCbgPzi_In"
      },
      "source": [
        "* Expected amount of money for each game is: (428.5714284*0.1) + (-6.845912000000001 * (1-0.1))"
      ]
    },
    {
      "cell_type": "code",
      "metadata": {
        "id": "H9_fNejdi7Tx",
        "outputId": "ef9e5ea2-892d-4430-ebe4-55f24245cf27",
        "colab": {
          "base_uri": "https://localhost:8080/",
          "height": 34
        }
      },
      "source": [
        "(428.5714284*0.1) + (-6.845912000000001 * (1-0.1))"
      ],
      "execution_count": 13,
      "outputs": [
        {
          "output_type": "execute_result",
          "data": {
            "text/plain": [
              "36.69582204"
            ]
          },
          "metadata": {
            "tags": []
          },
          "execution_count": 13
        }
      ]
    },
    {
      "cell_type": "markdown",
      "metadata": {
        "id": "6sM9jfwPjcjl"
      },
      "source": [
        "* Expected amount of money for each game on 600 games per week is: (36.69582204*600)"
      ]
    },
    {
      "cell_type": "code",
      "metadata": {
        "id": "7VJOJElVjxTQ",
        "outputId": "5f0d463d-f7e8-4554-a100-4e0b68bb2ad9",
        "colab": {
          "base_uri": "https://localhost:8080/",
          "height": 34
        }
      },
      "source": [
        "(36.69582204*600)"
      ],
      "execution_count": 14,
      "outputs": [
        {
          "output_type": "execute_result",
          "data": {
            "text/plain": [
              "22017.493224"
            ]
          },
          "metadata": {
            "tags": []
          },
          "execution_count": 14
        }
      ]
    },
    {
      "cell_type": "markdown",
      "metadata": {
        "id": "er_OUqDZfvcN"
      },
      "source": [
        "* Expected amount of money for each game with complete for the Poker-card deck with 4 10´s is: (10 * 0.1447163) + (-10 * (1-0.1447163))"
      ]
    },
    {
      "cell_type": "code",
      "metadata": {
        "id": "I0-eAgYLf303",
        "outputId": "53ac664d-9d50-4d96-93d8-3e91206505cb",
        "colab": {
          "base_uri": "https://localhost:8080/",
          "height": 34
        }
      },
      "source": [
        "(10 * 0.1447163) + (-10 * (1-0.1447163))"
      ],
      "execution_count": 15,
      "outputs": [
        {
          "output_type": "execute_result",
          "data": {
            "text/plain": [
              "-7.1056740000000005"
            ]
          },
          "metadata": {
            "tags": []
          },
          "execution_count": 15
        }
      ]
    },
    {
      "cell_type": "markdown",
      "metadata": {
        "id": "wrfluANGrxfn"
      },
      "source": [
        "* Expected amount of money for each game is: (428.5714284*0.1) + (-7.1056740000000005 * (1-0.1))"
      ]
    },
    {
      "cell_type": "code",
      "metadata": {
        "id": "sMwZYeLVr3R9",
        "outputId": "54e0a35a-75fb-4519-e715-98107531d78b",
        "colab": {
          "base_uri": "https://localhost:8080/",
          "height": 34
        }
      },
      "source": [
        "(428.5714284*0.1) + (-7.1056740000000005* (1-0.1))"
      ],
      "execution_count": 16,
      "outputs": [
        {
          "output_type": "execute_result",
          "data": {
            "text/plain": [
              "36.46203624"
            ]
          },
          "metadata": {
            "tags": []
          },
          "execution_count": 16
        }
      ]
    },
    {
      "cell_type": "markdown",
      "metadata": {
        "id": "WbyXKvrGr_GY"
      },
      "source": [
        "* Expected amount of money for each game on 600 games per week is: (36.46203624*600)"
      ]
    },
    {
      "cell_type": "code",
      "metadata": {
        "id": "qV-tNMOqsEP8",
        "outputId": "fef0daf2-eb12-4bc7-e1ee-2358eeb4c5c7",
        "colab": {
          "base_uri": "https://localhost:8080/",
          "height": 34
        }
      },
      "source": [
        "(36.46203624*600)"
      ],
      "execution_count": 17,
      "outputs": [
        {
          "output_type": "execute_result",
          "data": {
            "text/plain": [
              "21877.221744000002"
            ]
          },
          "metadata": {
            "tags": []
          },
          "execution_count": 17
        }
      ]
    },
    {
      "cell_type": "code",
      "metadata": {
        "id": "IMb9rsUifs2D"
      },
      "source": [
        "#trash\n",
        "#xlist=[]\n",
        "#ylist=[]\n",
        "#clist=[]\n",
        "#for i in range(n):\n",
        "#  k=\n",
        "#  x=r.random()\n",
        "#  y=r.random()\n",
        "#  c=1\n",
        "#  if ((x-0.5)**2+(y-0.5)**2 < 1/4):\n",
        "#    count = count +1\n",
        "#    c=0\n",
        "#  xlist.append(x)\n",
        "#  ylist.append(y)\n",
        "#  clist.append(c)\n",
        "# Matplotlib Scatter: Exercise-3 with Solution https://www.w3resource.com/graphics/matplotlib/scatter/matplotlib-scatter-exercise-3.php\n",
        "# How can I set the aspect ratio in matplotlib?: https://stackoverflow.com/questions/7965743/how-can-i-set-the-aspect-ratio-in-matplotlib\n",
        "#plt.figure()\n",
        "#plt.scatter( xlist, ylist,  c=clist,  s=2.5)\n",
        "#plt.axis([0.0, 1.0, 0.0, 1.0])\n",
        "#plt.xlabel(\"x\")\n",
        "#plt.ylabel(\"y\")\n",
        "#plt.axes().set_aspect('equal')\n",
        "#plt.show()\n",
        "#print(\"Pi approx:\",4*count/n)\n",
        "\n",
        "# Matplotlib Scatter: Exercise-3 with Solution https://www.w3resource.com/graphics/matplotlib/scatter/matplotlib-scatter-exercise-3.php\n",
        "# How can I set the aspect ratio in matplotlib?: https://stackoverflow.com/questions/7965743/how-can-i-set-the-aspect-ratio-in-matplotlib\n",
        "plt.figure()\n",
        "plt.scatter( list(range(len(win_pk))), win_pk, s=1)\n",
        "plt.axis([0, len(win_pk), 0, 8])\n",
        "plt.xlabel(\"x\")\n",
        "plt.ylabel(\"y\")\n",
        "plt.title('Scatter wins on spanish deck');\n",
        "#plt.axes().set_aspect('equal')\n",
        "plt.show()\n",
        "#print(\"Pi approx:\",4*count/n)\n",
        "\n",
        "plt.figure()\n",
        "plt.hist(win_pk, bins=(max(win_pk)-2))\n",
        "plt.xlabel(\"x\")\n",
        "plt.ylabel(\"y\")\n",
        "plt.title('Histogram wins on spanish deck');\n",
        "#plt.axes().set_aspect('equal')\n",
        "plt.show()\n",
        "#print(\"Pi approx:\",4*count/n)"
      ],
      "execution_count": null,
      "outputs": []
    }
  ]
}