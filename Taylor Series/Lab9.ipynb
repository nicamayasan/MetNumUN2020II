{
  "nbformat": 4,
  "nbformat_minor": 0,
  "metadata": {
    "colab": {
      "name": "Lab9.ipynb",
      "provenance": []
    },
    "kernelspec": {
      "name": "python3",
      "display_name": "Python 3"
    }
  },
  "cells": [
    {
      "cell_type": "markdown",
      "metadata": {
        "id": "8QsRCt4ySt-c"
      },
      "source": [
        "<center>\n",
        "  <h1>LABORATORIO 9 - Bisection Convergence</h1>\n",
        "  <h3>Nicolas Amaya Sandoval (nicamayasan@unal.edu.co)</h3>\n",
        "  </center>"
      ]
    },
    {
      "cell_type": "markdown",
      "metadata": {
        "id": "FKsG_uQwSmZh"
      },
      "source": [
        "## PUNTO 1. \n",
        "\n",
        "- Modify the BisectionConvergence.ipynb to be applied to f(x) = (x-1) *(x-2) *(x-3)*(x-4) for x in [0.5)."
      ]
    },
    {
      "cell_type": "code",
      "metadata": {
        "id": "ozNMPOGpSm-s"
      },
      "source": [
        "\n",
        "import matplotlib.pyplot as plt\n",
        "import numpy as np"
      ],
      "execution_count": 42,
      "outputs": []
    },
    {
      "cell_type": "code",
      "metadata": {
        "colab": {
          "base_uri": "https://localhost:8080/",
          "height": 281
        },
        "id": "j_SHHqGwS9u2",
        "outputId": "c4fd6d00-606b-4703-e3a0-600ce7f97811"
      },
      "source": [
        "extent = 0.0, 4.0, 0.0, 4.0 \n",
        "   \n",
        "width = 400\n",
        "height= 400\n",
        "pixels = np.full((width,height,3),0)\n",
        "for i in range(width):\n",
        "  for j in range(height):\n",
        "    if (j>i+100): \n",
        "      pixels[height-j-1,i,0] = pixels[height-j-1,i,1] = pixels[height-j-1,i,2] = 255\n",
        "      #print(i,j)\n",
        "\n",
        "plt.title('bisection_convergence')\n",
        "plt.imshow(pixels,extent = extent)\n",
        "plt.show()"
      ],
      "execution_count": 41,
      "outputs": [
        {
          "output_type": "display_data",
          "data": {
            "image/png": "[encoded data removed]",
            "text/plain": [
              "<Figure size 432x288 with 1 Axes>"
            ]
          },
          "metadata": {
            "tags": [],
            "needs_background": "light"
          }
        }
      ]
    },
    {
      "cell_type": "code",
      "metadata": {
        "colab": {
          "base_uri": "https://localhost:8080/",
          "height": 312
        },
        "id": "JhqqJJAiS_Z6",
        "outputId": "6dd3eae4-8fd7-4005-d48a-d583f1cce186"
      },
      "source": [
        "def func(x): \n",
        "    return ((x-1) *(x-2) *(x-3)*(x-4))\n",
        "\n",
        "\n",
        "x = np.linspace(0.0,5.0,500)\n",
        "fig, ax = plt.subplots()\n",
        "ax.plot(x,func(x))\n",
        "ax.axhline(y=0, color='c')\n",
        "ax.axvline(x=0, color='c')\n",
        "ax.grid(True, which='both')\n",
        "plt.title('f(x)=((x-1)*(x-2)*(x-3)*(x-4))')\n",
        "plt.xlabel('x')\n",
        "plt.ylabel('f(x)')"
      ],
      "execution_count": 45,
      "outputs": [
        {
          "output_type": "execute_result",
          "data": {
            "text/plain": [
              "Text(0, 0.5, 'f(x)')"
            ]
          },
          "metadata": {
            "tags": []
          },
          "execution_count": 45
        },
        {
          "output_type": "display_data",
          "data": {
            "image/png": "[encoded data removed]",
            "text/plain": [
              "<Figure size 432x288 with 1 Axes>"
            ]
          },
          "metadata": {
            "tags": [],
            "needs_background": "light"
          }
        }
      ]
    },
    {
      "cell_type": "code",
      "metadata": {
        "colab": {
          "base_uri": "https://localhost:8080/",
          "height": 295
        },
        "id": "qHsqu0IgTKtd",
        "outputId": "52261848-565e-4e63-b492-20d7d484747f"
      },
      "source": [
        "width = height = 80\n",
        "xi=0.0\n",
        "xf=5.0\n",
        "eps = 1e-3\n",
        "mxiter = 1e4\n",
        "\n",
        "pixels = np.full((width,height,3),0)\n",
        "# roots\n",
        "r1 = 1\n",
        "r2 = 2\n",
        "r3 = 3\n",
        "r4 = 4 \n",
        "   \n",
        "multcol = 5\n",
        "\n",
        "for i in range(height):\n",
        "            \n",
        "            aa =   float(xi + (i * (xf-xi) /height))\n",
        "            \n",
        "            for j in range(width):\n",
        "                bb= float(xi + (j* (xf-xi)/ width))\n",
        "\n",
        "                a = aa\n",
        "                b = bb\n",
        "                c=a\n",
        "                iter = 0\n",
        "                \n",
        "                while ((b-a) >= eps and (func(a) * func(b) <= 0)): \n",
        "                   \n",
        "                    # Check if a is root \n",
        "                    if (func(a) == 0.0): \n",
        "                      c=a\n",
        "                      break\n",
        "\n",
        "                    # Check if b is root \n",
        "                    if (func(b) == 0.0): \n",
        "                      c=b\n",
        "                      break\n",
        "  \n",
        "                    # Find middle point \n",
        "                    c = (a+b)/2\n",
        "    \n",
        "                    # Decide the side to repeat the steps \n",
        "                    if (func(c)*func(a) < 0): \n",
        "                        b = c \n",
        "                    else: \n",
        "                        a = c \n",
        "                    \n",
        "                    iter = iter + 1\n",
        "                    \n",
        "                    if (iter > mxiter):\n",
        "                     break\n",
        "\n",
        "                # Pixels colored using the roots\n",
        "                if abs(c-r1)<eps:\n",
        "                    # color red\n",
        "                    pixels[height-j-1,i] = (255 - iter*multcol, 0, 0)\n",
        "                elif abs(c-r2)<=eps:\n",
        "                    # color green\n",
        "                    pixels[height-j-1,i] = (0, 255 - iter*multcol, 0)\n",
        "                elif abs(c-r3)<=eps:\n",
        "                    # color blue\n",
        "                    pixels[height-j-1,i] = (0, 0, 255 - iter*multcol)\n",
        "                elif abs(c-r4)<=eps:\n",
        "                    # color cyan\n",
        "                    pixels[height-j-1,i] = (0, 255 - iter*multcol, 255 - iter*multcol)\n",
        "                elif (b < a):\n",
        "                    pixels[height-j-1,i] = (255, 255, 0)\n",
        "                elif (func(a) * func(b) >= 0):\n",
        "                    pixels[height-j-1,i] = (255, 255, 255)\n",
        "                else:   \n",
        "                    pixels[height-j-1,i] = (0, 0, 0)\n",
        "\n",
        "                \n",
        "     \n",
        "plt.title('bisection_convergence')\n",
        "plt.xlabel(\"a in (\"+str(xi)+\",\"+str(xf)+\")\")\n",
        "plt.ylabel(\"b in (\"+str(xi)+\",\"+str(xf)+\")\")\n",
        "extent = xi, xf, xi, xf\n",
        "plt.imshow(pixels,extent =extent)\n",
        "plt.show()"
      ],
      "execution_count": 54,
      "outputs": [
        {
          "output_type": "display_data",
          "data": {
            "image/png": "[encoded data removed]",
            "text/plain": [
              "<Figure size 432x288 with 1 Axes>"
            ]
          },
          "metadata": {
            "tags": [],
            "needs_background": "light"
          }
        }
      ]
    },
    {
      "cell_type": "code",
      "metadata": {
        "colab": {
          "base_uri": "https://localhost:8080/",
          "height": 295
        },
        "id": "uzphinfbTNjw",
        "outputId": "df8c1f07-54e3-4914-8850-4d56d661e96d"
      },
      "source": [
        "width = height = 320\n",
        "xi=-8.0\n",
        "xf=8.0\n",
        "eps = 1e-3\n",
        "mxiter = 1e4\n",
        "\n",
        "pixels = np.full((width,height,3),0)\n",
        "# roots\n",
        "r1 = 1\n",
        "r2 = 2\n",
        "r3 = 3\n",
        "r4 = 4\n",
        "   \n",
        "multcol = 5\n",
        "\n",
        "for i in range(height):\n",
        "            \n",
        "            aa =   float(xi + (i * (xf-xi) /height))\n",
        "            \n",
        "            for j in range(width):\n",
        "                bb= float(xi + (j* (xf-xi)/ width))\n",
        "                a = aa\n",
        "                b = bb\n",
        "\n",
        "                c=a\n",
        "                iter = 0\n",
        "                \n",
        "                while ((b-a) >= eps and (func(a) * func(b) <= 0)): \n",
        "                   \n",
        "                    # Check if a is root \n",
        "                    if (func(a) == 0.0): \n",
        "                      c=a\n",
        "                      break\n",
        "\n",
        "                    # Check if b is root \n",
        "                    if (func(b) == 0.0): \n",
        "                      c=b\n",
        "                      break\n",
        "  \n",
        "                    # Find middle point \n",
        "                    c = (a+b)/2\n",
        "    \n",
        "                    # Decide the side to repeat the steps \n",
        "                    if (func(c)*func(a) < 0): \n",
        "                        b = c \n",
        "                    else: \n",
        "                        a = c \n",
        "                    \n",
        "                    iter = iter + 1\n",
        "                    \n",
        "                    if (iter > mxiter):\n",
        "                     break\n",
        "\n",
        "                # Pixels colored using the roots\n",
        "                if abs(c-r1)<eps:\n",
        "                    # color red\n",
        "                    pixels[height-j-1,i] = (255 - iter*multcol, 0, 0)\n",
        "                elif abs(c-r2)<=eps:\n",
        "                    # color green\n",
        "                    pixels[height-j-1,i] = (0, 255 - iter*multcol, 0)\n",
        "                elif abs(c-r3)<=eps:\n",
        "                    # color blue\n",
        "                    pixels[height-j-1,i] = (0, 0, 255 - iter*multcol)\n",
        "                elif abs(c-r4)<=eps:\n",
        "                    # color black\n",
        "                    pixels[height-j-1,i] = (0, 255 - iter*multcol,255 - iter*multcol)\n",
        "                elif (b < a):\n",
        "                    pixels[height-j-1,i] = (255, 255, 0)\n",
        "                elif (func(a) * func(b) >= 0):\n",
        "                    pixels[height-j-1,i] = (255, 255, 255)\n",
        "                else:   \n",
        "                    pixels[height-j-1,i] = (0, 0, 0)\n",
        "\n",
        "                \n",
        "     \n",
        "plt.title('bisection_convergence')\n",
        "plt.xlabel(\"a in (\"+str(xi)+\",\"+str(xf)+\")\")\n",
        "plt.ylabel(\"b in (\"+str(xi)+\",\"+str(xf)+\")\")\n",
        "extent = xi, xf, xi, xf\n",
        "plt.imshow(pixels,extent =extent)\n",
        "plt.show()"
      ],
      "execution_count": 59,
      "outputs": [
        {
          "output_type": "display_data",
          "data": {
            "image/png": "[encoded data removed]",
            "text/plain": [
              "<Figure size 432x288 with 1 Axes>"
            ]
          },
          "metadata": {
            "tags": [],
            "needs_background": "light"
          }
        }
      ]
    },
    {
      "cell_type": "code",
      "metadata": {
        "id": "JeWAfySnJtoY"
      },
      "source": [
        ""
      ],
      "execution_count": null,
      "outputs": []
    },
    {
      "cell_type": "markdown",
      "metadata": {
        "id": "xUsnUcYPKs2F"
      },
      "source": [
        "## PUNTO 2. \n",
        "\n",
        "- Describe the regions where starting intervals (a,b) converge and to which root does it converge. Also which regions do not converge and why."
      ]
    },
    {
      "cell_type": "markdown",
      "metadata": {
        "id": "HV9LORHYKyfC"
      },
      "source": [
        "- Converge :  en estas regiones tenemos los valores de las raices a es menor a b y hay cambio de signo en las funciones al extremo<h1>\n",
        "  <h3>Rojo \n",
        "  <h3>Azul \n",
        "  <h3>Verde \n",
        "  <h3>Cyan\n",
        "- No converge: a es mayor a b luego No hay raiz entre a y b o b es menor que a y no hay intervalo \n",
        "  <h3>Amarillo \n",
        " <h3> Blanco\n"
      ]
    }
  ]
}