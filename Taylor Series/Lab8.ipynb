{
  "nbformat": 4,
  "nbformat_minor": 0,
  "metadata": {
    "colab": {
      "name": "Lab8.ipynb",
      "provenance": []
    },
    "kernelspec": {
      "name": "python3",
      "display_name": "Python 3"
    }
  },
  "cells": [
    {
      "cell_type": "markdown",
      "metadata": {
        "id": "acZmIWROTLmB"
      },
      "source": [
        "<center>\n",
        "  <h1>LABORATORIO 8 - Quadratic Equation </h1>\n",
        "  <h3>Nicolas Amaya Sandoval (nicamayasan@unal.edu.co)</h3>\n",
        "  </center>\n",
        "\n"
      ]
    },
    {
      "cell_type": "code",
      "metadata": {
        "id": "Md7oHYVISCF7"
      },
      "source": [
        "import sympy\n",
        "\n",
        "def Formula_Cuadratica(a,b,c):\n",
        "  Raiz_negativa =  (-b - sympy.sqrt(b**2 - 4*a*c))/(2*a)\n",
        "  Raiz_positiva =  (-b + sympy.sqrt(b**2 - 4*a*c))/(2*a)\n",
        "  return Raiz_negativa, Raiz_positiva"
      ],
      "execution_count": 17,
      "outputs": []
    },
    {
      "cell_type": "code",
      "metadata": {
        "colab": {
          "base_uri": "https://localhost:8080/"
        },
        "id": "dsjGU-YuTaGZ",
        "outputId": "e4ac6d72-7214-45c8-bc88-cf048227f858"
      },
      "source": [
        "#3X^2 +2X -8 = (3x-4)(x+2)\n",
        "print(Formula_Cuadratica(3,+2,-8))"
      ],
      "execution_count": 18,
      "outputs": [
        {
          "output_type": "stream",
          "text": [
            "(-2, 4/3)\n"
          ],
          "name": "stdout"
        }
      ]
    },
    {
      "cell_type": "code",
      "metadata": {
        "id": "xfpDCODhUNqV"
      },
      "source": [
        "import sympy\n",
        "def ajustarAX(a,b,c):\n",
        "  k = 1/a\n",
        "  return a*k,b*k,c*k\n",
        "\n",
        "def Cuadratica_normal(a,b,c):\n",
        "\n",
        "  if(a==1):\n",
        "      \n",
        "    x2 = str(a) + \"X^2\"\n",
        "\n",
        "    if(b<0):\n",
        "      x1 = \" - \"+ str(-b) +\"X\"\n",
        "    else:\n",
        "      x1= \" + \" + str(b) +\"X\"\n",
        "\n",
        "    if(c<0):\n",
        "      x0 = \" - \"+ str(-c)\n",
        "    else:\n",
        "      x0= \" + \" + str(c)\n",
        "\n",
        "    ecuacion =  x2 + x1 +x0\n",
        "def Cuadratica_normal(a,b,c):\n",
        "  if(a==1):\n",
        "\n",
        "    #Calculo de -b\n",
        "    if(b<=0):\n",
        "      suma = abs(b)  \n",
        "    else:\n",
        "      suma = -b\n",
        "    \n",
        "    #Caclulo de -b/2\n",
        "    promedio_suma = suma/2\n",
        "\n",
        "    #Calculo de u positivo tras igualar el producto de las raices a c y despejar\n",
        "    u2 = -c + (promedio_suma**2)\n",
        "    u = sympy.sqrt(u2)\n",
        "\n",
        "    #Calculo final de las soluciones o raices de la ecuacion\n",
        "    x1 = promedio_suma - u \n",
        "    x2 = promedio_suma + u\n",
        "\n",
        "    return x1,x2\n",
        "\n",
        "  else:\n",
        "    a2,b2,c2 = ajustarAX(a,b,c)\n",
        "    return Cuadratica_normal(a2,b2,c2)\n"
      ],
      "execution_count": 25,
      "outputs": []
    },
    {
      "cell_type": "code",
      "metadata": {
        "colab": {
          "base_uri": "https://localhost:8080/"
        },
        "id": "lH0jfsMlUw7f",
        "outputId": "43f6a88d-03ef-4040-b77d-9d6f28c7b2f4"
      },
      "source": [
        "print(Cuadratica_normal(3,+2,-8))"
      ],
      "execution_count": 26,
      "outputs": [
        {
          "output_type": "stream",
          "text": [
            "(-2.00000000000000, 1.33333333333333)\n"
          ],
          "name": "stdout"
        }
      ]
    },
    {
      "cell_type": "markdown",
      "metadata": {
        "id": "5US5e8_BWslQ"
      },
      "source": [
        "Modify the Python code including code that implements the Classic and Po Shen Loh 's methods for solving quadratic equations and:\n",
        "\n",
        "##Punto1 \n",
        "Plot the following functions in a x range that include that include the vertex and the roots (if there are roots)\n",
        "*   x^2\n",
        "*   (x-1)^2\n",
        "*   x^2 – 1\n",
        "*   x^2+ 1"
      ]
    },
    {
      "cell_type": "code",
      "metadata": {
        "colab": {
          "base_uri": "https://localhost:8080/",
          "height": 312
        },
        "id": "hOJZ_DSaW2yD",
        "outputId": "c1dc2f5a-4a95-47a6-846c-7bfc071978b9"
      },
      "source": [
        "import math\n",
        "import matplotlib.pyplot as plt\n",
        "import numpy as np\n",
        "\n",
        "def f1(x):\n",
        "  return x**2\n",
        "\n",
        "x = np.linspace(-2.0,2.0,100)\n",
        "fig, ax = plt.subplots()\n",
        "ax.plot(x,f1(x))\n",
        "ax.axhline(y=0, color='k')\n",
        "ax.axvline(x=0, color='k')\n",
        "ax.grid(True, which='both')\n",
        "plt.title('f(x)=x^2')\n",
        "plt.xlabel('x')\n",
        "plt.ylabel('f(x)')"
      ],
      "execution_count": 27,
      "outputs": [
        {
          "output_type": "execute_result",
          "data": {
            "text/plain": [
              "Text(0, 0.5, 'f(x)')"
            ]
          },
          "metadata": {
            "tags": []
          },
          "execution_count": 27
        },
        {
          "output_type": "display_data",
          "data": {
            "image/png": "[encoded data removed]",
            "text/plain": [
              "<Figure size 432x288 with 1 Axes>"
            ]
          },
          "metadata": {
            "tags": [],
            "needs_background": "light"
          }
        }
      ]
    },
    {
      "cell_type": "code",
      "metadata": {
        "colab": {
          "base_uri": "https://localhost:8080/",
          "height": 312
        },
        "id": "YPQZqELBW9uc",
        "outputId": "47617e92-4902-40a9-c51f-88fdeb430fcb"
      },
      "source": [
        "import math\n",
        "import matplotlib.pyplot as plt\n",
        "import numpy as np\n",
        "\n",
        "def f2(x):\n",
        "  return (x - 1)**2\n",
        "\n",
        "x = np.linspace(-2.0,2.0,100)\n",
        "fig, ax = plt.subplots()\n",
        "ax.plot(x,f2(x))\n",
        "ax.axhline(y=0, color='k')\n",
        "ax.axvline(x=0, color='k')\n",
        "ax.grid(True, which='both')\n",
        "plt.title('f(x)=(x-1)^2')\n",
        "plt.xlabel('x')\n",
        "plt.ylabel('f(x)')"
      ],
      "execution_count": 28,
      "outputs": [
        {
          "output_type": "execute_result",
          "data": {
            "text/plain": [
              "Text(0, 0.5, 'f(x)')"
            ]
          },
          "metadata": {
            "tags": []
          },
          "execution_count": 28
        },
        {
          "output_type": "display_data",
          "data": {
            "image/png": "[encoded data removed]",
            "text/plain": [
              "<Figure size 432x288 with 1 Axes>"
            ]
          },
          "metadata": {
            "tags": [],
            "needs_background": "light"
          }
        }
      ]
    },
    {
      "cell_type": "code",
      "metadata": {
        "colab": {
          "base_uri": "https://localhost:8080/",
          "height": 312
        },
        "id": "QPdX9CLBXA2z",
        "outputId": "846c495c-6902-44c0-ebb2-313fe72203af"
      },
      "source": [
        "import math\n",
        "import matplotlib.pyplot as plt\n",
        "import numpy as np\n",
        "\n",
        "def f3(x):\n",
        "  return x**2 - 1\n",
        "\n",
        "x = np.linspace(-2.0,2.0,100)\n",
        "fig, ax = plt.subplots()\n",
        "ax.plot(x,f3(x))\n",
        "ax.axhline(y=0, color='k')\n",
        "ax.axvline(x=0, color='k')\n",
        "ax.grid(True, which='both')\n",
        "plt.title('f(x)= x^2 - 1')\n",
        "plt.xlabel('x')\n",
        "plt.ylabel('f(x)')"
      ],
      "execution_count": 29,
      "outputs": [
        {
          "output_type": "execute_result",
          "data": {
            "text/plain": [
              "Text(0, 0.5, 'f(x)')"
            ]
          },
          "metadata": {
            "tags": []
          },
          "execution_count": 29
        },
        {
          "output_type": "display_data",
          "data": {
            "image/png": "[encoded data removed]",
            "text/plain": [
              "<Figure size 432x288 with 1 Axes>"
            ]
          },
          "metadata": {
            "tags": [],
            "needs_background": "light"
          }
        }
      ]
    },
    {
      "cell_type": "code",
      "metadata": {
        "colab": {
          "base_uri": "https://localhost:8080/",
          "height": 312
        },
        "id": "A5wm6c_LXZhY",
        "outputId": "541e4a0b-1328-4ecb-da36-68f673ddbcfe"
      },
      "source": [
        "import math\n",
        "import matplotlib.pyplot as plt\n",
        "import numpy as np\n",
        "\n",
        "def f4(x):\n",
        "  return x**2 + 1\n",
        "\n",
        "x = np.linspace(-2.0,2.0,100)\n",
        "fig, ax = plt.subplots()\n",
        "ax.plot(x,f4(x))\n",
        "ax.axhline(y=0, color='k')\n",
        "ax.axvline(x=0, color='k')\n",
        "ax.grid(True, which='both')\n",
        "plt.title('f(x)= x^2 + 1')\n",
        "plt.xlabel('x')\n",
        "plt.ylabel('f(x)')"
      ],
      "execution_count": 30,
      "outputs": [
        {
          "output_type": "execute_result",
          "data": {
            "text/plain": [
              "Text(0, 0.5, 'f(x)')"
            ]
          },
          "metadata": {
            "tags": []
          },
          "execution_count": 30
        },
        {
          "output_type": "display_data",
          "data": {
            "image/png": "[encoded data removed]",
            "text/plain": [
              "<Figure size 432x288 with 1 Axes>"
            ]
          },
          "metadata": {
            "tags": [],
            "needs_background": "light"
          }
        }
      ]
    },
    {
      "cell_type": "markdown",
      "metadata": {
        "id": "MCo8bv_UXpbS"
      },
      "source": [
        "##Punto 2\n",
        "Apply the Classic and Po Shen Loh 's methods for solving the following quadratic equations\n",
        "\n",
        "*   x^2 = 0\n",
        "*   (x-1)^2 = 0\n",
        "*   x^2 – 1 =0\n",
        "*   x^2+ 1 =0\n",
        "\n",
        "\n",
        "\n"
      ]
    },
    {
      "cell_type": "markdown",
      "metadata": {
        "id": "ifEzNz8AY6kG"
      },
      "source": [
        "$f(x)=x^2 = 0$"
      ]
    },
    {
      "cell_type": "code",
      "metadata": {
        "colab": {
          "base_uri": "https://localhost:8080/"
        },
        "id": "sp6zJJ8IXhoX",
        "outputId": "7d587859-0c1d-4fac-e230-ab359a6b6fbb"
      },
      "source": [
        "print(Formula_Cuadratica(1,0,0))"
      ],
      "execution_count": 33,
      "outputs": [
        {
          "output_type": "stream",
          "text": [
            "(0, 0)\n"
          ],
          "name": "stdout"
        }
      ]
    },
    {
      "cell_type": "code",
      "metadata": {
        "colab": {
          "base_uri": "https://localhost:8080/"
        },
        "id": "uPA26HLBYgKJ",
        "outputId": "4ab6107f-4e7d-4898-eed5-bf208e346732"
      },
      "source": [
        "print(Cuadratica_normal(1,0,0))"
      ],
      "execution_count": 34,
      "outputs": [
        {
          "output_type": "stream",
          "text": [
            "(0, 0)\n"
          ],
          "name": "stdout"
        }
      ]
    },
    {
      "cell_type": "markdown",
      "metadata": {
        "id": "tAhcUqllZI6P"
      },
      "source": [
        "$f(x)=(x-1)^2 = 0$"
      ]
    },
    {
      "cell_type": "code",
      "metadata": {
        "colab": {
          "base_uri": "https://localhost:8080/"
        },
        "id": "f4DnQE8LYkPL",
        "outputId": "fc6a6f11-7adb-47ad-b7f3-e783b1a5316f"
      },
      "source": [
        "print(Formula_Cuadratica(1,-2,1))"
      ],
      "execution_count": 35,
      "outputs": [
        {
          "output_type": "stream",
          "text": [
            "(1, 1)\n"
          ],
          "name": "stdout"
        }
      ]
    },
    {
      "cell_type": "code",
      "metadata": {
        "colab": {
          "base_uri": "https://localhost:8080/"
        },
        "id": "iDorVlWJZX51",
        "outputId": "e57283c0-7aae-4a5b-d533-08277e2a1968"
      },
      "source": [
        "print(Cuadratica_normal(1,-2,1))"
      ],
      "execution_count": 36,
      "outputs": [
        {
          "output_type": "stream",
          "text": [
            "(1.00000000000000, 1.00000000000000)\n"
          ],
          "name": "stdout"
        }
      ]
    },
    {
      "cell_type": "markdown",
      "metadata": {
        "id": "E1OzvBUVZi-T"
      },
      "source": [
        "$f(x)=x^2 -1 = 0$"
      ]
    },
    {
      "cell_type": "code",
      "metadata": {
        "colab": {
          "base_uri": "https://localhost:8080/"
        },
        "id": "x4osyyQJZcY7",
        "outputId": "1adf1e14-0274-4a53-c4ba-18d0ce151053"
      },
      "source": [
        "print(Formula_Cuadratica(1,0,-1))"
      ],
      "execution_count": 38,
      "outputs": [
        {
          "output_type": "stream",
          "text": [
            "(-1, 1)\n"
          ],
          "name": "stdout"
        }
      ]
    },
    {
      "cell_type": "code",
      "metadata": {
        "colab": {
          "base_uri": "https://localhost:8080/"
        },
        "id": "044zaib6Zogu",
        "outputId": "14c886bc-d33f-4ad1-b4fd-5a295049b1ec"
      },
      "source": [
        "print(Cuadratica_normal(1,0,-1))"
      ],
      "execution_count": 39,
      "outputs": [
        {
          "output_type": "stream",
          "text": [
            "(-1.00000000000000, 1.00000000000000)\n"
          ],
          "name": "stdout"
        }
      ]
    },
    {
      "cell_type": "markdown",
      "metadata": {
        "id": "weUQOHLfZ3cV"
      },
      "source": [
        "$f(x)=x^2 -1 = 0$"
      ]
    },
    {
      "cell_type": "code",
      "metadata": {
        "colab": {
          "base_uri": "https://localhost:8080/"
        },
        "id": "UjX19Sa3Zy_S",
        "outputId": "4cbc779e-da23-4ad8-8127-3ffbf0727822"
      },
      "source": [
        "print(Formula_Cuadratica(1,0,1))"
      ],
      "execution_count": 40,
      "outputs": [
        {
          "output_type": "stream",
          "text": [
            "(-I, I)\n"
          ],
          "name": "stdout"
        }
      ]
    },
    {
      "cell_type": "code",
      "metadata": {
        "colab": {
          "base_uri": "https://localhost:8080/"
        },
        "id": "dOH1EtjDZ7Qy",
        "outputId": "c40c8fdc-a012-48cd-bb7d-04e276eaf098"
      },
      "source": [
        "print(Cuadratica_normal(1,0,1))"
      ],
      "execution_count": 41,
      "outputs": [
        {
          "output_type": "stream",
          "text": [
            "(-1.0*I, 1.0*I)\n"
          ],
          "name": "stdout"
        }
      ]
    },
    {
      "cell_type": "markdown",
      "metadata": {
        "id": "9MLhvq9JaHYh"
      },
      "source": [
        "##Punto 3 y 4\n",
        "to plot the newton fractals for the corresponding complex quadratic polynomials\n",
        "*  z^2\n",
        "*  (z-1)^2\n",
        "*  z^2 – 1\n",
        "*  z^2+ 1"
      ]
    },
    {
      "cell_type": "markdown",
      "metadata": {
        "id": "ykJybsCme4rz"
      },
      "source": [
        "$z^2 $"
      ]
    },
    {
      "cell_type": "code",
      "metadata": {
        "id": "8dkoMJLJaAdA"
      },
      "source": [
        "import math\n",
        "import matplotlib.pyplot as plt\n",
        "import numpy as np\n",
        "\n",
        "def f(z):\n",
        "    return z ** 2 \n",
        "\n",
        "def df(z):\n",
        "    return 2 * z\n",
        "\n",
        "def newton_set1(z_c_r=0, z_c_i=0, zh = 5, zw=5, width=500, height=500, zoom=1,  niter=256):\n",
        "    \"\"\" Fractals using newton-raphson \"\"\"\n",
        "\n",
        "    # Pixels array\n",
        "    pixels = np.arange(width*height*3, dtype=np.uint32).reshape(height, width, 3)\n",
        "\n",
        "    h = 1e-7 # step size for numerical derivative\n",
        "    eps = 1e-3 # max error allowed\n",
        "\n",
        "    # Bounding roots\n",
        "    r1 = 0\n",
        "    r2 = 0\n",
        "\n",
        "    # Color multiplication factor\n",
        "    # NOTE: Increasing this darkens the image and lightens it otherwise\n",
        "    multcol = 5\n",
        "    m = 1 # Newton's method for roots of multiplicity >1 https://math.stackexchange.com/questions/93156/newtons-method-for-roots-of-multiplicity-1/93158\n",
        "\n",
        "    for y in range(height):\n",
        "            zy =   z_c_i+(((y-(height/2))/height)*zh*zoom)\n",
        "\n",
        "            for x in range(width):\n",
        "                zx = z_c_r+ (((x-(width/2))/width)*zw*zoom)\n",
        "\n",
        "                # Mapping real -> complex plane\n",
        "                z = complex(zx, zy)\n",
        "                \n",
        "                count = 0\n",
        "                \n",
        "                for i in range(niter):\n",
        "                    # complex numerical derivative\n",
        "                    dz = df(z)\n",
        "                    if dz == 0:\n",
        "                        break\n",
        "\n",
        "                    count += 1\n",
        "                    if count > 255:\n",
        "                        break\n",
        "                   \n",
        "                    znext = z - m*f(z) / dz # Newton iteration\n",
        "\n",
        "                    if abs(znext - z) < eps: # stop when close enough to any root\n",
        "                        break\n",
        "                    \n",
        "                    z = znext\n",
        "\n",
        "                # Pixels colored using the roots\n",
        "                if abs(z-r1)<eps:\n",
        "                    # color red\n",
        "                    pixels[height-y-1,x] = (255 - count*multcol, 0, 0)\n",
        "                elif abs(z-r2)<=eps:\n",
        "                    # color green\n",
        "                    pixels[height-y-1,x] = (0, 255 - count*multcol, 0)\n",
        "                else:   \n",
        "                   pixels[height-y-1,x] = (0, 0, 0)\n",
        "               \n",
        "    return pixels\n",
        "\n",
        "def display1(z_c_r=0, z_c_i=0, zh = 1, zw=1, width=500, height=500, zoom=1,  niter=256):\n",
        "    \"\"\" Display a newton-raphson fractal \"\"\"\n",
        "    print(\"Z region from (\",z_c_r+ (((0-(width/2))/width)*zw*zoom),\",\",z_c_i+(((0-(height/2))/height)*zh*zoom) ,\") to (\",z_c_r+ (((width-(width/2))/width)*zw*zoom),\",\",z_c_i+(((height-(height/2))/height)*zh*zoom),\")\")\n",
        "    pimg = newton_set1(z_c_r=z_c_r, z_c_i=z_c_i, zh = zh, zw=zw, width=width, height=width, zoom=zoom,  niter=niter)\n",
        "    plt.title('Newton Fractal f(x)=Z^2-1')\n",
        "    plt.xlabel(\"real\"+\"(\"+ str(z_c_r+ (((0-(width/2))/width)*zw*zoom))+\",\"+str(z_c_r+ (((width-(width/2))/width)*zw*zoom))+\")\")\n",
        "    plt.ylabel(\"imaginary\"+\"(\"+str(z_c_i+(((0-(height/2))/height)*zh*zoom))+\",\"+str(z_c_i+(((height-(height/2))/height)*zh*zoom)) +\")\")\n",
        "    plt.imshow(pimg)\n",
        "    plt.show()"
      ],
      "execution_count": 42,
      "outputs": []
    },
    {
      "cell_type": "code",
      "metadata": {
        "colab": {
          "base_uri": "https://localhost:8080/",
          "height": 312
        },
        "id": "k_HweGa3eumV",
        "outputId": "4a15f0ce-1985-459f-83c1-5ef478317863"
      },
      "source": [
        "display1(zoom=0.01)"
      ],
      "execution_count": 43,
      "outputs": [
        {
          "output_type": "stream",
          "text": [
            "Z region from ( -0.005 , -0.005 ) to ( 0.005 , 0.005 )\n"
          ],
          "name": "stdout"
        },
        {
          "output_type": "display_data",
          "data": {
            "image/png": "[encoded data removed]",
            "text/plain": [
              "<Figure size 432x288 with 1 Axes>"
            ]
          },
          "metadata": {
            "tags": [],
            "needs_background": "light"
          }
        }
      ]
    },
    {
      "cell_type": "markdown",
      "metadata": {
        "id": "NotiOKyUe-Sl"
      },
      "source": [
        "$(z-1)^2 $"
      ]
    },
    {
      "cell_type": "code",
      "metadata": {
        "id": "OCflGL1Jewyp"
      },
      "source": [
        "import math\n",
        "import matplotlib.pyplot as plt\n",
        "import numpy as np\n",
        "\n",
        "def f(z):\n",
        "    return (z-1) ** 2 \n",
        "\n",
        "def df(z):\n",
        "    return 2 * (z-1)\n",
        "\n",
        "def newton_set1(z_c_r=0, z_c_i=0, zh = 5, zw=5, width=500, height=500, zoom=1,  niter=256):\n",
        "    \"\"\" Fractals using newton-raphson \"\"\"\n",
        "\n",
        "    # Pixels array\n",
        "    pixels = np.arange(width*height*3, dtype=np.uint32).reshape(height, width, 3)\n",
        "\n",
        "    h = 1e-7 # step size for numerical derivative\n",
        "    eps = 1e-3 # max error allowed\n",
        "\n",
        "    # Bounding roots\n",
        "    r1 = 1\n",
        "    r2 = 1\n",
        "\n",
        "    # Color multiplication factor\n",
        "    # NOTE: Increasing this darkens the image and lightens it otherwise\n",
        "    multcol = 5\n",
        "    m = 1 # Newton's method for roots of multiplicity >1 https://math.stackexchange.com/questions/93156/newtons-method-for-roots-of-multiplicity-1/93158\n",
        "\n",
        "    for y in range(height):\n",
        "            zy =   z_c_i+(((y-(height/2))/height)*zh*zoom)\n",
        "\n",
        "            for x in range(width):\n",
        "                zx = z_c_r+ (((x-(width/2))/width)*zw*zoom)\n",
        "\n",
        "                # Mapping real -> complex plane\n",
        "                z = complex(zx, zy)\n",
        "                \n",
        "                count = 0\n",
        "                \n",
        "                for i in range(niter):\n",
        "                    # complex numerical derivative\n",
        "                    dz = df(z)\n",
        "                    if dz == 0:\n",
        "                        break\n",
        "\n",
        "                    count += 1\n",
        "                    if count > 255:\n",
        "                        break\n",
        "                   \n",
        "                    znext = z - m*f(z) / dz # Newton iteration\n",
        "\n",
        "                    if abs(znext - z) < eps: # stop when close enough to any root\n",
        "                        break\n",
        "                    \n",
        "                    z = znext\n",
        "\n",
        "                # Pixels colored using the roots\n",
        "                if abs(z-r1)<eps:\n",
        "                    # color red\n",
        "                    pixels[height-y-1,x] = (255 - count*multcol, 0, 0)\n",
        "                elif abs(z-r2)<=eps:\n",
        "                    # color green\n",
        "                    pixels[height-y-1,x] = (0, 255 - count*multcol, 0)\n",
        "                else:   \n",
        "                   pixels[height-y-1,x] = (0, 0, 0)\n",
        "               \n",
        "    return pixels\n",
        "\n",
        "def display1(z_c_r=0, z_c_i=0, zh = 1, zw=1, width=500, height=500, zoom=1,  niter=256):\n",
        "    \"\"\" Display a newton-raphson fractal \"\"\"\n",
        "    print(\"Z region from (\",z_c_r+ (((0-(width/2))/width)*zw*zoom),\",\",z_c_i+(((0-(height/2))/height)*zh*zoom) ,\") to (\",z_c_r+ (((width-(width/2))/width)*zw*zoom),\",\",z_c_i+(((height-(height/2))/height)*zh*zoom),\")\")\n",
        "    pimg = newton_set1(z_c_r=z_c_r, z_c_i=z_c_i, zh = zh, zw=zw, width=width, height=width, zoom=zoom,  niter=niter)\n",
        "    plt.title('Newton Fractal f(x)=Z^2-1')\n",
        "    plt.xlabel(\"real\"+\"(\"+ str(z_c_r+ (((0-(width/2))/width)*zw*zoom))+\",\"+str(z_c_r+ (((width-(width/2))/width)*zw*zoom))+\")\")\n",
        "    plt.ylabel(\"imaginary\"+\"(\"+str(z_c_i+(((0-(height/2))/height)*zh*zoom))+\",\"+str(z_c_i+(((height-(height/2))/height)*zh*zoom)) +\")\")\n",
        "    plt.imshow(pimg)\n",
        "    plt.show()"
      ],
      "execution_count": 44,
      "outputs": []
    },
    {
      "cell_type": "code",
      "metadata": {
        "colab": {
          "base_uri": "https://localhost:8080/",
          "height": 312
        },
        "id": "R05yvrbOfIqv",
        "outputId": "b83ff731-ae8a-4aa8-928b-9b42f2af8a5e"
      },
      "source": [
        "#display1(zoom=1,z_c_r=1,z_c_i=1)\n",
        "display1(zoom=5)"
      ],
      "execution_count": 45,
      "outputs": [
        {
          "output_type": "stream",
          "text": [
            "Z region from ( -2.5 , -2.5 ) to ( 2.5 , 2.5 )\n"
          ],
          "name": "stdout"
        },
        {
          "output_type": "display_data",
          "data": {
            "image/png": "[encoded data removed]",
            "text/plain": [
              "<Figure size 432x288 with 1 Axes>"
            ]
          },
          "metadata": {
            "tags": [],
            "needs_background": "light"
          }
        }
      ]
    },
    {
      "cell_type": "markdown",
      "metadata": {
        "id": "TuYkYjUSfcYo"
      },
      "source": [
        "$z^2 – 1$"
      ]
    },
    {
      "cell_type": "code",
      "metadata": {
        "id": "nhFt0nxsfL7n"
      },
      "source": [
        "import math\n",
        "import matplotlib.pyplot as plt\n",
        "import numpy as np\n",
        "\n",
        "def f(z):\n",
        "    return z**2-1 \n",
        "\n",
        "def df(z):\n",
        "    return 2*z\n",
        "\n",
        "def newton_set1(z_c_r=0, z_c_i=0, zh = 5, zw=5, width=500, height=500, zoom=1,  niter=256):\n",
        "    \"\"\" Fractals using newton-raphson \"\"\"\n",
        "\n",
        "    # Pixels array\n",
        "    pixels = np.arange(width*height*3, dtype=np.uint32).reshape(height, width, 3)\n",
        "\n",
        "    h = 1e-7 # step size for numerical derivative\n",
        "    eps = 1e-3 # max error allowed\n",
        "\n",
        "    # Bounding roots\n",
        "    r1 = 1\n",
        "    r2 = -1\n",
        "\n",
        "    # Color multiplication factor\n",
        "    # NOTE: Increasing this darkens the image and lightens it otherwise\n",
        "    multcol = 5\n",
        "    m = 1 # Newton's method for roots of multiplicity >1 https://math.stackexchange.com/questions/93156/newtons-method-for-roots-of-multiplicity-1/93158\n",
        "\n",
        "    for y in range(height):\n",
        "            zy =   z_c_i+(((y-(height/2))/height)*zh*zoom)\n",
        "\n",
        "            for x in range(width):\n",
        "                zx = z_c_r+ (((x-(width/2))/width)*zw*zoom)\n",
        "\n",
        "                # Mapping real -> complex plane\n",
        "                z = complex(zx, zy)\n",
        "                \n",
        "                count = 0\n",
        "                \n",
        "                for i in range(niter):\n",
        "                    # complex numerical derivative\n",
        "                    dz = df(z)\n",
        "                    if dz == 0:\n",
        "                        break\n",
        "\n",
        "                    count += 1\n",
        "                    if count > 255:\n",
        "                        break\n",
        "                   \n",
        "                    znext = z - m*f(z) / dz # Newton iteration\n",
        "\n",
        "                    if abs(znext - z) < eps: # stop when close enough to any root\n",
        "                        break\n",
        "                    \n",
        "                    z = znext\n",
        "\n",
        "                # Pixels colored using the roots\n",
        "                if abs(z-r1)<eps:\n",
        "                    # color red\n",
        "                    pixels[height-y-1,x] = (255 - count*multcol, 0, 0)\n",
        "                elif abs(z-r2)<=eps:\n",
        "                    # color green\n",
        "                    pixels[height-y-1,x] = (0, 255 - count*multcol, 0)\n",
        "                else:   \n",
        "                   pixels[height-y-1,x] = (0, 0, 0)\n",
        "               \n",
        "    return pixels\n",
        "\n",
        "def display1(z_c_r=0, z_c_i=0, zh = 1, zw=1, width=500, height=500, zoom=1,  niter=256):\n",
        "    \"\"\" Display a newton-raphson fractal \"\"\"\n",
        "    print(\"Z region from (\",z_c_r+ (((0-(width/2))/width)*zw*zoom),\",\",z_c_i+(((0-(height/2))/height)*zh*zoom) ,\") to (\",z_c_r+ (((width-(width/2))/width)*zw*zoom),\",\",z_c_i+(((height-(height/2))/height)*zh*zoom),\")\")\n",
        "    pimg = newton_set1(z_c_r=z_c_r, z_c_i=z_c_i, zh = zh, zw=zw, width=width, height=width, zoom=zoom,  niter=niter)\n",
        "    plt.title('Newton Fractal f(x)=Z^2-1')\n",
        "    plt.xlabel(\"real\"+\"(\"+ str(z_c_r+ (((0-(width/2))/width)*zw*zoom))+\",\"+str(z_c_r+ (((width-(width/2))/width)*zw*zoom))+\")\")\n",
        "    plt.ylabel(\"imaginary\"+\"(\"+str(z_c_i+(((0-(height/2))/height)*zh*zoom))+\",\"+str(z_c_i+(((height-(height/2))/height)*zh*zoom)) +\")\")\n",
        "    plt.imshow(pimg)\n",
        "    plt.show()"
      ],
      "execution_count": 46,
      "outputs": []
    },
    {
      "cell_type": "code",
      "metadata": {
        "colab": {
          "base_uri": "https://localhost:8080/",
          "height": 312
        },
        "id": "UglzKxdsgXFa",
        "outputId": "0d61221a-515c-4fa1-c3c4-b2b7763d105b"
      },
      "source": [
        "display1(zoom=0.01)"
      ],
      "execution_count": 47,
      "outputs": [
        {
          "output_type": "stream",
          "text": [
            "Z region from ( -0.005 , -0.005 ) to ( 0.005 , 0.005 )\n"
          ],
          "name": "stdout"
        },
        {
          "output_type": "display_data",
          "data": {
            "image/png": "[encoded data removed]",
            "text/plain": [
              "<Figure size 432x288 with 1 Axes>"
            ]
          },
          "metadata": {
            "tags": [],
            "needs_background": "light"
          }
        }
      ]
    },
    {
      "cell_type": "markdown",
      "metadata": {
        "id": "lqrakvr4gsBH"
      },
      "source": [
        "##Punto 5\n",
        "Plot he Newton iterates for points on the diagonals in the four quadrants and 0.0 + 0.0j for the complex quadratic polynomials in 3. Give an interpretation of the results.\n"
      ]
    },
    {
      "cell_type": "markdown",
      "metadata": {
        "id": "frTpVXIxhAAI"
      },
      "source": [
        "$z^2 $"
      ]
    },
    {
      "cell_type": "code",
      "metadata": {
        "colab": {
          "base_uri": "https://localhost:8080/",
          "height": 1000
        },
        "id": "9TS0J8DlkR8G",
        "outputId": "dddb51b1-5d18-4d3a-fe17-65d834d7b639"
      },
      "source": [
        "def f(z):\n",
        "    return z ** 2 \n",
        "\n",
        "def df(z):\n",
        "    return 2 * z\n",
        "z=1.0 + 1.0j\n",
        "r=[]\n",
        "i=[]\n",
        "eps = 1e-3 # max error allowed\n",
        "for k in range(200):\n",
        "  dz = df(z)\n",
        "  znext = z - f(z) / dz # Newton iteration\n",
        "  r.append(np.real(z))\n",
        "  i.append(np.imag(z))\n",
        "\n",
        "  z = znext\n",
        "  \n",
        "plt.title('Newton iterates form z=10.0 + 0.0j')\n",
        "plt.plot(r)\n",
        "plt.ylabel('Real part')\n",
        "plt.show()\n",
        "plt.plot(i)\n",
        "plt.ylabel('Imagnary part')\n",
        "plt.show()\n",
        "z=-10.0 -  10.0j\n",
        "r=[]\n",
        "i=[]\n",
        "for k in range(200):\n",
        "  dz = df(z)\n",
        "  z = z - f(z) / dz # Newton iteration\n",
        "  r.append(np.real(z))\n",
        "  i.append(np.imag(z))\n",
        "plt.title('Newton iterates form z=-10.0 + 0.0j')\n",
        "plt.plot(r)\n",
        "plt.ylabel('Real part')\n",
        "plt.show()\n",
        "plt.plot(i)\n",
        "plt.ylabel('Imaginary part')\n",
        "plt.show()"
      ],
      "execution_count": 49,
      "outputs": [
        {
          "output_type": "display_data",
          "data": {
            "image/png": "[encoded data removed]",
            "text/plain": [
              "<Figure size 432x288 with 1 Axes>"
            ]
          },
          "metadata": {
            "tags": [],
            "needs_background": "light"
          }
        },
        {
          "output_type": "display_data",
          "data": {
            "image/png": "[encoded data removed]",
            "text/plain": [
              "<Figure size 432x288 with 1 Axes>"
            ]
          },
          "metadata": {
            "tags": [],
            "needs_background": "light"
          }
        },
        {
          "output_type": "display_data",
          "data": {
            "image/png": "[encoded data removed]",
            "text/plain": [
              "<Figure size 432x288 with 1 Axes>"
            ]
          },
          "metadata": {
            "tags": [],
            "needs_background": "light"
          }
        },
        {
          "output_type": "display_data",
          "data": {
            "image/png": "[encoded data removed]",
            "text/plain": [
              "<Figure size 432x288 with 1 Axes>"
            ]
          },
          "metadata": {
            "tags": [],
            "needs_background": "light"
          }
        }
      ]
    },
    {
      "cell_type": "markdown",
      "metadata": {
        "id": "IAABIp33hBNb"
      },
      "source": [
        "$(z-1)^2 $"
      ]
    },
    {
      "cell_type": "code",
      "metadata": {
        "colab": {
          "base_uri": "https://localhost:8080/",
          "height": 1000
        },
        "id": "Uk5rN58DkSXy",
        "outputId": "3192ec03-04b6-47fe-b9ba-c047a511e619"
      },
      "source": [
        "def f(z):\n",
        "    return (z-1) ** 2 \n",
        "\n",
        "def df(z):\n",
        "    return 2 * (z-1)\n",
        "z=1.0 + 1.0j\n",
        "r=[]\n",
        "i=[]\n",
        "eps = 1e-3 # max error allowed\n",
        "for k in range(200):\n",
        "  dz = df(z)\n",
        "  znext = z - f(z) / dz # Newton iteration\n",
        "  r.append(np.real(z))\n",
        "  i.append(np.imag(z))\n",
        "\n",
        "  z = znext\n",
        "  \n",
        "plt.title('Newton iterates form z=10.0 + 0.0j')\n",
        "plt.plot(r)\n",
        "plt.ylabel('Real part')\n",
        "plt.show()\n",
        "plt.plot(i)\n",
        "plt.ylabel('Imagnary part')\n",
        "plt.show()\n",
        "z=-10.0 -  10.0j\n",
        "r=[]\n",
        "i=[]\n",
        "for k in range(200):\n",
        "  dz = df(z)\n",
        "  z = z - f(z) / dz # Newton iteration\n",
        "  r.append(np.real(z))\n",
        "  i.append(np.imag(z))\n",
        "plt.title('Newton iterates form z=-10.0 + 0.0j')\n",
        "plt.plot(r)\n",
        "plt.ylabel('Real part')\n",
        "plt.show()\n",
        "plt.plot(i)\n",
        "plt.ylabel('Imaginary part')\n",
        "plt.show()"
      ],
      "execution_count": 50,
      "outputs": [
        {
          "output_type": "display_data",
          "data": {
            "image/png": "[encoded data removed]",
            "text/plain": [
              "<Figure size 432x288 with 1 Axes>"
            ]
          },
          "metadata": {
            "tags": [],
            "needs_background": "light"
          }
        },
        {
          "output_type": "display_data",
          "data": {
            "image/png": "[encoded data removed]",
            "text/plain": [
              "<Figure size 432x288 with 1 Axes>"
            ]
          },
          "metadata": {
            "tags": [],
            "needs_background": "light"
          }
        },
        {
          "output_type": "display_data",
          "data": {
            "image/png": "[encoded data removed]",
            "text/plain": [
              "<Figure size 432x288 with 1 Axes>"
            ]
          },
          "metadata": {
            "tags": [],
            "needs_background": "light"
          }
        },
        {
          "output_type": "display_data",
          "data": {
            "image/png": "[encoded data removed]",
            "text/plain": [
              "<Figure size 432x288 with 1 Axes>"
            ]
          },
          "metadata": {
            "tags": [],
            "needs_background": "light"
          }
        }
      ]
    },
    {
      "cell_type": "markdown",
      "metadata": {
        "id": "szOZg0Q-hJxd"
      },
      "source": [
        "$z^2 -1 $"
      ]
    },
    {
      "cell_type": "code",
      "metadata": {
        "colab": {
          "base_uri": "https://localhost:8080/",
          "height": 1000
        },
        "id": "FvsAA_YHkS4S",
        "outputId": "c5a91c47-bcbb-47f5-81ca-66116228ea4f"
      },
      "source": [
        "def f(z):\n",
        "    return z**2-1 \n",
        "\n",
        "def df(z):\n",
        "    return 2*z\n",
        "z=1.0 + 1.0j\n",
        "r=[]\n",
        "i=[]\n",
        "eps = 1e-3 # max error allowed\n",
        "for k in range(200):\n",
        "  dz = df(z)\n",
        "  znext = z - f(z) / dz # Newton iteration\n",
        "  r.append(np.real(z))\n",
        "  i.append(np.imag(z))\n",
        "\n",
        "  z = znext\n",
        "  \n",
        "plt.title('Newton iterates form z=10.0 + 0.0j')\n",
        "plt.plot(r)\n",
        "plt.ylabel('Real part')\n",
        "plt.show()\n",
        "plt.plot(i)\n",
        "plt.ylabel('Imagnary part')\n",
        "plt.show()\n",
        "z=-10.0 -  10.0j\n",
        "r=[]\n",
        "i=[]\n",
        "for k in range(200):\n",
        "  dz = df(z)\n",
        "  z = z - f(z) / dz # Newton iteration\n",
        "  r.append(np.real(z))\n",
        "  i.append(np.imag(z))\n",
        "plt.title('Newton iterates form z=-10.0 + 0.0j')\n",
        "plt.plot(r)\n",
        "plt.ylabel('Real part')\n",
        "plt.show()\n",
        "plt.plot(i)\n",
        "plt.ylabel('Imaginary part')\n",
        "plt.show()"
      ],
      "execution_count": 51,
      "outputs": [
        {
          "output_type": "display_data",
          "data": {
            "image/png": "[encoded data removed]",
            "text/plain": [
              "<Figure size 432x288 with 1 Axes>"
            ]
          },
          "metadata": {
            "tags": [],
            "needs_background": "light"
          }
        },
        {
          "output_type": "display_data",
          "data": {
            "image/png": "[encoded data removed]",
            "text/plain": [
              "<Figure size 432x288 with 1 Axes>"
            ]
          },
          "metadata": {
            "tags": [],
            "needs_background": "light"
          }
        },
        {
          "output_type": "display_data",
          "data": {
            "image/png": "[encoded data removed]",
            "text/plain": [
              "<Figure size 432x288 with 1 Axes>"
            ]
          },
          "metadata": {
            "tags": [],
            "needs_background": "light"
          }
        },
        {
          "output_type": "display_data",
          "data": {
            "image/png": "[encoded data removed]",
            "text/plain": [
              "<Figure size 432x288 with 1 Axes>"
            ]
          },
          "metadata": {
            "tags": [],
            "needs_background": "light"
          }
        }
      ]
    },
    {
      "cell_type": "markdown",
      "metadata": {
        "id": "g_1ql-UGkPgn"
      },
      "source": [
        "$z^2 +1 $"
      ]
    },
    {
      "cell_type": "code",
      "metadata": {
        "colab": {
          "base_uri": "https://localhost:8080/",
          "height": 1000
        },
        "id": "I69Y8SAkkOC7",
        "outputId": "4d2c8798-5eaa-4ca6-ff7c-02bcdcc778d8"
      },
      "source": [
        "def f(z):\n",
        "    return z**2-1 \n",
        "\n",
        "def df(z):\n",
        "    return 2*z\n",
        "z=1.0 + 1.0j\n",
        "r=[]\n",
        "i=[]\n",
        "eps = 1e-3 # max error allowed\n",
        "for k in range(200):\n",
        "  dz = df(z)\n",
        "  znext = z - f(z) / dz # Newton iteration\n",
        "  r.append(np.real(z))\n",
        "  i.append(np.imag(z))\n",
        "\n",
        "  z = znext\n",
        "  \n",
        "plt.title('Newton iterates form z=10.0 + 0.0j')\n",
        "plt.plot(r)\n",
        "plt.ylabel('Real part')\n",
        "plt.show()\n",
        "plt.plot(i)\n",
        "plt.ylabel('Imagnary part')\n",
        "plt.show()\n",
        "z=-10.0 -  10.0j\n",
        "r=[]\n",
        "i=[]\n",
        "for k in range(200):\n",
        "  dz = df(z)\n",
        "  z = z - f(z) / dz # Newton iteration\n",
        "  r.append(np.real(z))\n",
        "  i.append(np.imag(z))\n",
        "plt.title('Newton iterates form z=-10.0 + 0.0j')\n",
        "plt.plot(r)\n",
        "plt.ylabel('Real part')\n",
        "plt.show()\n",
        "plt.plot(i)\n",
        "plt.ylabel('Imaginary part')\n",
        "plt.show()"
      ],
      "execution_count": 52,
      "outputs": [
        {
          "output_type": "display_data",
          "data": {
            "image/png": "[encoded data removed]",
            "text/plain": [
              "<Figure size 432x288 with 1 Axes>"
            ]
          },
          "metadata": {
            "tags": [],
            "needs_background": "light"
          }
        },
        {
          "output_type": "display_data",
          "data": {
            "image/png": "[encoded data removed]",
            "text/plain": [
              "<Figure size 432x288 with 1 Axes>"
            ]
          },
          "metadata": {
            "tags": [],
            "needs_background": "light"
          }
        },
        {
          "output_type": "display_data",
          "data": {
            "image/png": "[encoded data removed]",
            "text/plain": [
              "<Figure size 432x288 with 1 Axes>"
            ]
          },
          "metadata": {
            "tags": [],
            "needs_background": "light"
          }
        },
        {
          "output_type": "display_data",
          "data": {
            "image/png": "[encoded data removed]",
            "text/plain": [
              "<Figure size 432x288 with 1 Axes>"
            ]
          },
          "metadata": {
            "tags": [],
            "needs_background": "light"
          }
        }
      ]
    },
    {
      "cell_type": "code",
      "metadata": {
        "id": "f5uA5dcv1sl7"
      },
      "source": [
        ""
      ],
      "execution_count": null,
      "outputs": []
    }
  ]
}